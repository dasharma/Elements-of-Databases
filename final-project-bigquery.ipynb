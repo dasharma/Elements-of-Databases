{
 "cells": [
  {
   "cell_type": "code",
   "execution_count": 2,
   "id": "f50ed719-a891-44ea-8996-cd8a0908a2fb",
   "metadata": {},
   "outputs": [],
   "source": [
    "PROJECT = \"red-airline-397500\"\n",
    "DATASET = \"final_project\"\n",
    "REGION = \"us-central1\""
   ]
  },
  {
   "cell_type": "code",
   "execution_count": 5,
   "id": "b523528a-56c9-4c64-b57d-b41d717a3857",
   "metadata": {},
   "outputs": [
    {
     "name": "stdout",
     "output_type": "stream",
     "text": [
      "CREATE OR REPLACE TABLE final_project.currency(\n",
      "    curr_code STRING NOT NULL,\n",
      "    curr_name STRING NOT NULL,\n",
      "    cntry_code STRING NOT NULL,\n",
      "    cntry_name STRING NOT NULL,\n",
      "    PRIMARY KEY (curr_code) NOT ENFORCED)\n",
      "\n"
     ]
    }
   ],
   "source": [
    "from google.cloud import bigquery\n",
    "\n",
    "\n",
    "client = bigquery.Client(project=PROJECT, location=REGION)\n",
    "\n",
    "ddl = '''CREATE OR REPLACE TABLE final_project.currency(\n",
    "    curr_code STRING NOT NULL,\n",
    "    curr_name STRING NOT NULL,\n",
    "    cntry_code STRING NOT NULL,\n",
    "    cntry_name STRING NOT NULL,\n",
    "    PRIMARY KEY (curr_code) NOT ENFORCED)\n",
    "'''\n",
    "\n",
    "print(ddl)\n",
    "\n",
    "try:\n",
    "    query_job = client.query(ddl)\n",
    "    query_job.result()\n",
    "except Exception as e:\n",
    "    print(\"Error occurred while creating table:\", e)"
   ]
  },
  {
   "cell_type": "code",
   "execution_count": 6,
   "id": "d9120cc0-1034-4ff5-9154-fbff7ddf23c4",
   "metadata": {},
   "outputs": [
    {
     "name": "stdout",
     "output_type": "stream",
     "text": [
      "INSERT INTO final_project.currency (curr_code, curr_name, cntry_code, cntry_name) \n",
      "        VALUES \n",
      "        ('SYP', 'Syrian pound', 'CI', 'Korea'),\n",
      "('HNL', 'Honduran lempira', 'SB', 'Saint Vincent and the Grenadines'),\n",
      "('GHS', 'Ghanaian cedi', 'MD', 'United Kingdom'),\n",
      "('SVC', 'Salvadoran colón', 'CR', 'Rwanda'),\n",
      "('CDF', 'Congolese franc', 'YE', 'Saint Martin'),\n",
      "('CUC', 'Cuban convertible peso', 'CY', 'UA'),\n",
      "('COP', 'Colombian peso', 'VU', 'Anguilla'),\n",
      "('XAF', 'Central African CFA franc', 'KR', 'Spain'),\n",
      "('DJF', 'Djiboutian franc', 'SI', 'Honduras'),\n",
      "('NPR', 'Nepalese rupee', 'GR', 'Seychelles'),\n",
      "('INR', 'Indian rupee', 'BR', 'North Macedonia'),\n",
      "('BYR', 'Belarusian ruble', 'PY', 'Antarctica (the territory South of 60 deg S)'),\n",
      "('LTL', 'Lithuanian litas', 'FJ', 'Barbados'),\n",
      "('GTQ', 'Guatemalan quetzal', 'TV', 'Norfolk Island'),\n",
      "('MVR', 'Maldivian rufiyaa', 'BB', 'Sweden'),\n",
      "('JMD', 'Jamaican dollar', 'NE', 'Antigua and Barbuda'),\n",
      "('EUR', 'Euro', 'GN', 'Ukraine'),\n",
      "('LYD', 'Libyan dinar', 'ML', 'LC'),\n",
      "('GBP', 'Pound sterling', 'PL', 'Vietnam'),\n",
      "('GYD', 'Guyanese dollar', 'RO', 'Fiji'),\n",
      "('NOK', 'Norwegian krone', 'EE', 'Latvia'),\n",
      "('BSD', 'Bahamian dollar', 'MN', 'Faroe Islands'),\n",
      "('OMR', 'Omani rial', 'SZ', 'South Georgia and the South Sandwich Islands'),\n",
      "('CNY', 'Renminbi', 'PT', 'Saudi Arabia'),\n",
      "('THB', 'Thai baht', 'KE', 'Ethiopia'),\n",
      "('CVE', 'Cape Verdean escudo', 'ZW', 'Maldives'),\n",
      "('BIF', 'Burundian franc', 'PH', 'Cook Islands'),\n",
      "('WST', 'Samoan tālā', 'IR', 'Malta'),\n",
      "('ARS', 'Argentine peso', 'MG', 'Chile'),\n",
      "('ETB', 'Ethiopian birr', 'NZ', 'Tanzania')\n",
      "30 records written into currency table\n"
     ]
    }
   ],
   "source": [
    "from google.cloud import bigquery\n",
    "from faker import Faker\n",
    "\n",
    "\n",
    "client = bigquery.Client(project=PROJECT, location=REGION)\n",
    "\n",
    "sql = '''INSERT INTO final_project.currency (curr_code, curr_name, cntry_code, cntry_name) \n",
    "        VALUES \n",
    "        '''\n",
    "fake = Faker()\n",
    "for i in range(1, 31):\n",
    "\n",
    "    currency = fake.currency()\n",
    "    curr_code = currency[0]\n",
    "    curr_name = currency[1]\n",
    "    while curr_code in sql:\n",
    "        currency = fake.currency()\n",
    "        curr_code = currency[0]\n",
    "        curr_name = currency[1]\n",
    "\n",
    "    cntry_name = fake.country()\n",
    "    while cntry_name in sql:\n",
    "        cntry_name = fake.country_code()\n",
    "        \n",
    "    cntry_code = fake.country_code()\n",
    "    while cntry_code in sql:\n",
    "        cntry_code = fake.country_code()\n",
    "\n",
    "    if i != 30:\n",
    "        sql += f\"('{curr_code}', '{curr_name}', '{cntry_code}', '{cntry_name}'),\\n\"\n",
    "    else:\n",
    "        sql += f\"('{curr_code}', '{curr_name}', '{cntry_code}', '{cntry_name}')\"\n",
    "\n",
    "print(sql)\n",
    "\n",
    "try:\n",
    "    query_job = client.query(sql)\n",
    "    query_job.result()\n",
    "    print('30 records written into currency table')\n",
    "except Exception as e:\n",
    "    print(\"Error occurred while writing to table:\", e)"
   ]
  },
  {
   "cell_type": "code",
   "execution_count": null,
   "id": "d473b3fd-e2df-498e-b84d-96a9b925d392",
   "metadata": {},
   "outputs": [],
   "source": []
  }
 ],
 "metadata": {
  "environment": {
   "kernel": "python3",
   "name": "common-cpu.m110",
   "type": "gcloud",
   "uri": "gcr.io/deeplearning-platform-release/base-cpu:m110"
  },
  "kernelspec": {
   "display_name": "Python 3",
   "language": "python",
   "name": "python3"
  },
  "language_info": {
   "codemirror_mode": {
    "name": "ipython",
    "version": 3
   },
   "file_extension": ".py",
   "mimetype": "text/x-python",
   "name": "python",
   "nbconvert_exporter": "python",
   "pygments_lexer": "ipython3",
   "version": "3.10.12"
  }
 },
 "nbformat": 4,
 "nbformat_minor": 5
}
