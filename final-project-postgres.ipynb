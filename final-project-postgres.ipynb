{
 "cells": [
  {
   "cell_type": "code",
   "execution_count": 22,
   "id": "02bde10e-8590-4034-bfe6-82031583fa20",
   "metadata": {},
   "outputs": [],
   "source": [
    "##### SETUP DONE\n",
    "HOST = \"10.106.192.10\"\n",
    "USER = \"postgres\"\n",
    "PW=\"postgressed\"\n",
    "DB=\"final_project\""
   ]
  },
  {
   "cell_type": "code",
   "execution_count": 23,
   "id": "191a75ea-7510-4696-b2b8-15cfeda28e7a",
   "metadata": {},
   "outputs": [],
   "source": [
    "import psycopg\n",
    "\n",
    "def connect():\n",
    "    \n",
    "    url = \"dbname='{}' user='{}' host={} port=5432 password={}\".format(DB, USER, HOST, PW)\n",
    "    connection = psycopg.connect(url)\n",
    "\n",
    "    return connection"
   ]
  },
  {
   "cell_type": "code",
   "execution_count": 25,
   "id": "6d971c96-de83-406e-973d-7b8297320f45",
   "metadata": {},
   "outputs": [
    {
     "name": "stdout",
     "output_type": "stream",
     "text": [
      "<psycopg.Connection [IDLE] (host=10.106.192.10 user=postgres database=final_project) at 0x7f88f0068ca0>\n"
     ]
    }
   ],
   "source": [
    "import psycopg\n",
    "\n",
    "connection = connect()\n",
    "\n",
    "print(connection)"
   ]
  },
  {
   "cell_type": "code",
   "execution_count": 46,
   "id": "affe85b9-1aa5-4a74-8fe8-5cfbb32972ef",
   "metadata": {},
   "outputs": [
    {
     "name": "stdout",
     "output_type": "stream",
     "text": [
      "<psycopg.Connection [IDLE] (host=10.106.192.10 user=postgres database=final_project) at 0x7f88ad73a7a0>\n",
      "DROP TABLE IF EXISTS final_project.reservations\n",
      "CREATE TABLE final_project.reservations(\n",
      "    res_id SMALLINT PRIMARY KEY,\n",
      "    cust_id SMALLINT NOT NULL,\n",
      "    prp_nm CHAR(40) NOT NULL,\n",
      "    prp_ch CHAR(40) NOT NULL,\n",
      "    adr_line_1 VARCHAR(100) NOT NULL,\n",
      "    adr_line_2 VARCHAR(100) NOT NULL, \n",
      "    city VARCHAR(29) NOT NULL, \n",
      "    state CHAR(20) NOT NULL, \n",
      "    postal_cd BIGINT NOT NULL,\n",
      "    lat SMALLINT NOT NULL,\n",
      "    long SMALLINT NOT NULL,\n",
      "    cnt_code CHAR(2) NOT NULL,\n",
      "    arr_date DATE NOT NULL,\n",
      "    dep_date DATE NOT NULL,\n",
      "    pmt_amt BIGINT NOT NULL\n",
      "    ) \n",
      "Dropped reservations table\n",
      "Created reservations table\n"
     ]
    }
   ],
   "source": [
    "\n",
    "import psycopg\n",
    "\n",
    "connection = connect()\n",
    "print(connection)\n",
    "\n",
    " \n",
    "cursor = connection.cursor()\n",
    "\n",
    "# Create the schema if it doesn't exist\n",
    "schema_create = 'CREATE SCHEMA IF NOT EXISTS final_project;'\n",
    "cursor.execute(schema_create)\n",
    "connection.commit()\n",
    "\n",
    "drop = 'DROP TABLE IF EXISTS final_project.reservations'\n",
    "\n",
    "create = '''CREATE TABLE final_project.reservations(\n",
    "    res_id SMALLINT PRIMARY KEY,\n",
    "    cust_id SMALLINT NOT NULL,\n",
    "    prp_nm CHAR(40) NOT NULL,\n",
    "    prp_ch CHAR(40) NOT NULL,\n",
    "    adr_line_1 VARCHAR(100) NOT NULL,\n",
    "    adr_line_2 VARCHAR(100) NOT NULL, \n",
    "    city VARCHAR(29) NOT NULL, \n",
    "    state CHAR(20) NOT NULL, \n",
    "    postal_cd BIGINT NOT NULL,\n",
    "    lat SMALLINT NOT NULL,\n",
    "    long SMALLINT NOT NULL,\n",
    "    cnt_code CHAR(2) NOT NULL,\n",
    "    arr_date DATE NOT NULL,\n",
    "    dep_date DATE NOT NULL,\n",
    "    pmt_amt BIGINT NOT NULL\n",
    "    ) '''\n",
    "\n",
    "print(drop)\n",
    "print(create)\n",
    "\n",
    "try:\n",
    "    \n",
    "    cursor = connection.cursor()\n",
    "    cursor.execute(drop)\n",
    "    print('Dropped reservations table')\n",
    "    \n",
    "    cursor = connection.cursor()\n",
    "    cursor.execute(create)\n",
    "    print('Created reservations table')\n",
    "    \n",
    "    connection.commit() # commit the changes \n",
    "except Exception as e:\n",
    "    print(\"Error occurred while creating reservations table:\", e)"
   ]
  },
  {
   "cell_type": "code",
   "execution_count": 47,
   "id": "faaf88ac-77e4-42ab-b828-f11c761a50c2",
   "metadata": {},
   "outputs": [
    {
     "name": "stdout",
     "output_type": "stream",
     "text": [
      "<psycopg.Connection [IDLE] (host=10.106.192.10 user=postgres database=final_project) at 0x7f88ad544df0>\n",
      "Wrote 100 records into reservations table\n"
     ]
    }
   ],
   "source": [
    "import psycopg2\n",
    "from faker import Faker \n",
    "from datetime import datetime\n",
    "import random\n",
    "\n",
    "\n",
    "fake = Faker()\n",
    "\n",
    "connection = connect()\n",
    "print(connection)\n",
    "\n",
    "sql = \"INSERT INTO final_project.reservations (res_id, cust_id, prp_nm, prp_ch, adr_line_1, adr_line_2, city, state, postal_cd, lat,\\\n",
    "       long, cnt_code, arr_date, dep_date, pmt_amt) VALUES (%s, %s, %s, %s, %s, %s, %s, %s, %s, %s, %s, %s, %s, %s, %s)\"\n",
    "\n",
    "cnt_codes = [\"PH\", \"MN\", \"SZ\", \"PL\", \"KR\", \"NE\", \"GR\", \"RO\", \"CI\", \"ML\", \"IR\", \"YE\", \"BB\", \"SI\", \"PY\", \"NZ\", \"GN\", \"SB\", \"FJ\", \"KE\", \"MD\", \"VU\", \"ZW\", \"EE\", \"CR\", \"MG\", \"BR\", \"PT\", \"CY\", \"TV\"]\n",
    "inserts = []\n",
    "\n",
    "\n",
    "for i in range(1, 101):\n",
    "    res_id = i\n",
    "    prp_nm = fake.company()\n",
    "    prp_ch = fake.company()\n",
    "    adr_line_1 = fake.address()\n",
    "    adr_line_2 = fake.address()\n",
    "    city = fake.city()\n",
    "    state = fake.state()\n",
    "    postal_cd = fake.zipcode()\n",
    "    lat = fake.latitude()\n",
    "    long = fake.longitude()\n",
    "    cnt_code = random.choice(cnt_codes)\n",
    "    \n",
    "    random_year = random.randrange(1914, 2024)\n",
    "    random_month = random.randrange(1, 12)\n",
    "    random_day = random.randrange(1, 29)\n",
    "    arr_date = datetime(random_year, random_month, random_day)\n",
    "    dep_date = datetime(random_year, random_month, random_day)\n",
    "    \n",
    "    pmt_amt = random.randrange(1000, 10000)\n",
    "    \n",
    "    rec = {\n",
    "            \"res_id\": res_id,\n",
    "            \"cust_id\": random.randrange(1, 51),\n",
    "            \"prp_nm\": prp_nm,\n",
    "            \"prp_ch\": prp_ch,\n",
    "            \"adr_line_1\": adr_line_1,\n",
    "            \"adr_line_2\": adr_line_2,\n",
    "            \"city\": city,\n",
    "            \"state\": state,\n",
    "            \"postal_cd\": postal_cd,\n",
    "            \"lat\": lat,\n",
    "            \"long\": long,\n",
    "            \"cnt_code\": cnt_code,\n",
    "            \"arr_date\": arr_date,\n",
    "            \"dep_date\": dep_date,\n",
    "            \"pmt_amt\": pmt_amt\n",
    "        }\n",
    "\n",
    "    inserts.append(rec)\n",
    "\n",
    "try:\n",
    "    cursor = connection.cursor()\n",
    "    \n",
    "    for rec in inserts:\n",
    "        values = (\n",
    "            rec['res_id'], rec['cust_id'], rec['prp_nm'], rec['prp_ch'],\n",
    "            rec['adr_line_1'], rec['adr_line_2'], rec['city'], rec['state'],\n",
    "            rec['postal_cd'], rec['lat'], rec['long'], rec['cnt_code'],\n",
    "            rec['arr_date'], rec['dep_date'], rec['pmt_amt']\n",
    "        )\n",
    "        cursor.execute(sql, values)\n",
    "    \n",
    "    connection.commit()\n",
    "    print(\"Wrote 100 records into reservations table\")\n",
    "        \n",
    "except Exception as e:\n",
    "    print(\"Failed to insert record into reservations table:\", e)"
   ]
  }
 ],
 "metadata": {
  "environment": {
   "kernel": "python3",
   "name": "common-cpu.m110",
   "type": "gcloud",
   "uri": "gcr.io/deeplearning-platform-release/base-cpu:m110"
  },
  "kernelspec": {
   "display_name": "Python 3",
   "language": "python",
   "name": "python3"
  },
  "language_info": {
   "codemirror_mode": {
    "name": "ipython",
    "version": 3
   },
   "file_extension": ".py",
   "mimetype": "text/x-python",
   "name": "python",
   "nbconvert_exporter": "python",
   "pygments_lexer": "ipython3",
   "version": "3.10.12"
  }
 },
 "nbformat": 4,
 "nbformat_minor": 5
}
