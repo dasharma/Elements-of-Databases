{
 "cells": [
  {
   "cell_type": "code",
   "execution_count": 1,
   "id": "c1a58ed7-fac1-4896-bf6d-f0ffd5eb72f0",
   "metadata": {},
   "outputs": [
    {
     "name": "stdout",
     "output_type": "stream",
     "text": [
      "env: CYPHER=/usr/bin/cypher-shell\n",
      "env: HOST=neo4j+s://fd0032e6.databases.neo4j.io\n",
      "env: USER=neo4j\n",
      "env: PW=2z5uLBQTs27dvQr9V1kFUeEELF-aS1TF0hsGkoGqZpY\n"
     ]
    }
   ],
   "source": [
    "%env CYPHER=/usr/bin/cypher-shell\n",
    "%env HOST=neo4j+s://fd0032e6.databases.neo4j.io\n",
    "%env USER=neo4j\n",
    "%env PW=2z5uLBQTs27dvQr9V1kFUeEELF-aS1TF0hsGkoGqZpY"
   ]
  },
  {
   "cell_type": "code",
   "execution_count": 2,
   "id": "35b6c3e8-cf22-4e91-8192-a585962305bf",
   "metadata": {},
   "outputs": [],
   "source": [
    "from IPython.core.magic import register_cell_magic\n",
    "import shlex\n",
    "\n",
    "@register_cell_magic('neo')\n",
    "def neo(line, cell):\n",
    "    !{CONNECT} {shlex.quote(cell)}"
   ]
  },
  {
   "cell_type": "code",
   "execution_count": 3,
   "id": "d4a91943-1d5d-40b1-ac5e-f624ae37ca89",
   "metadata": {},
   "outputs": [],
   "source": [
    "CONNECT=\"$CYPHER -a $HOST -u $USER -p $PW\""
   ]
  },
  {
   "cell_type": "code",
   "execution_count": 4,
   "id": "96887bda-574a-47bb-b2aa-82a873bc4ecc",
   "metadata": {},
   "outputs": [
    {
     "name": "stdout",
     "output_type": "stream",
     "text": [
      "+------------------------------------------------------------------+\n",
      "| user    | roles      | passwordChangeRequired | suspended | home |\n",
      "+------------------------------------------------------------------+\n",
      "| \"neo4j\" | [\"PUBLIC\"] | FALSE                  | FALSE     | NULL |\n",
      "+------------------------------------------------------------------+\n",
      "\n",
      "1 row\n",
      "ready to start consuming query after 168 ms, results consumed after another 442 ms\n"
     ]
    }
   ],
   "source": [
    "!{CONNECT} \"show users\""
   ]
  },
  {
   "cell_type": "code",
   "execution_count": null,
   "id": "6c6f196e-4f88-4c28-9286-1dcc6611bd40",
   "metadata": {},
   "outputs": [],
   "source": [
    "##### begin project 7 work"
   ]
  },
  {
   "cell_type": "code",
   "execution_count": 5,
   "id": "6ef99f45-82d2-4726-8597-81e895ff5baf",
   "metadata": {},
   "outputs": [
    {
     "name": "stdout",
     "output_type": "stream",
     "text": [
      "+---------------------------+\n",
      "| labels(n)      | count(*) |\n",
      "+---------------------------+\n",
      "| [\"Recipe\"]     | 11634    |\n",
      "| [\"Author\"]     | 303      |\n",
      "| [\"Ingredient\"] | 3077     |\n",
      "| [\"DietType\"]   | 12       |\n",
      "| [\"Collection\"] | 1049     |\n",
      "+---------------------------+\n",
      "\n",
      "5 rows\n",
      "ready to start consuming query after 45 ms, results consumed after another 18 ms\n"
     ]
    }
   ],
   "source": [
    "%%neo\n",
    "MATCH (n) RETURN distinct labels(n), count(*)"
   ]
  },
  {
   "cell_type": "code",
   "execution_count": 6,
   "id": "0c773e4f-12a5-4e7e-baa3-c8c350decde5",
   "metadata": {},
   "outputs": [
    {
     "name": "stdout",
     "output_type": "stream",
     "text": [
      "+----------------------------------+\n",
      "| type(r)               | count(r) |\n",
      "+----------------------------------+\n",
      "| \"CONTAINS_INGREDIENT\" | 106148   |\n",
      "| \"COLLECTION\"          | 32240    |\n",
      "| \"DIET_TYPE\"           | 14858    |\n",
      "| \"WROTE\"               | 11634    |\n",
      "+----------------------------------+\n",
      "\n",
      "4 rows\n",
      "ready to start consuming query after 59 ms, results consumed after another 82 ms\n"
     ]
    }
   ],
   "source": [
    "%%neo\n",
    "MATCH ()-[r]->()\n",
    "RETURN type(r),count(r)"
   ]
  },
  {
   "cell_type": "code",
   "execution_count": 9,
   "id": "cfb58b40-8799-48c3-ad45-aedebc202390",
   "metadata": {},
   "outputs": [
    {
     "name": "stdout",
     "output_type": "stream",
     "text": [
      "+------------------------------------------------------------------------+\n",
      "| recipe                                                                 |\n",
      "+------------------------------------------------------------------------+\n",
      "| \"Tomato & mozzarella couscous salad\"                                   |\n",
      "| \"Classic chunky fish cakes\"                                            |\n",
      "| \"Really easy roast chicken\"                                            |\n",
      "| \"Summer fruit quinoa salad\"                                            |\n",
      "| \"Spiced lamb with lemon & herb quinoa  \"                               |\n",
      "| \"Marinated lamb steaks with paprika roast tomatoes & butterbean smash\" |\n",
      "| \"Braised squid with fennel & tomatoes\"                                 |\n",
      "| \"Runner beans with rocket & Parmesan\"                                  |\n",
      "| \"Summer fish stew\"                                                     |\n",
      "| \"Crispy sweet potatoes with chickpeas & tahini yogurt\"                 |\n",
      "+------------------------------------------------------------------------+\n",
      "\n",
      "10 rows\n",
      "ready to start consuming query after 118 ms, results consumed after another 10 ms\n"
     ]
    }
   ],
   "source": [
    "%%neo \n",
    "MATCH (r:Recipe)\n",
    "WHERE (r)-[:CONTAINS_INGREDIENT]->(:Ingredient {name: 'olive oil'})\n",
    "AND   (r)-[:CONTAINS_INGREDIENT]->(:Ingredient {name: 'lemon'})\n",
    "RETURN r.name AS recipe\n",
    "LIMIT 10"
   ]
  },
  {
   "cell_type": "code",
   "execution_count": 10,
   "id": "ac6bc73b-9731-4feb-a5d2-a5e7b15dae43",
   "metadata": {},
   "outputs": [
    {
     "name": "stdout",
     "output_type": "stream",
     "text": [
      "+------------------------------------------+\n",
      "| recipe                                   |\n",
      "+------------------------------------------+\n",
      "| \"Smoked mash\"                            |\n",
      "| \"One-pan egg & veg brunch\"               |\n",
      "| \"Ultimate onion tart\"                    |\n",
      "| \"Summer vegetable bowl\"                  |\n",
      "| \"Bean & dill pilaf with garlicky yogurt\" |\n",
      "| \"Jewelled wild rice with almonds\"        |\n",
      "| \"Herby slashed roasties\"                 |\n",
      "| \"Miso spinach toast\"                     |\n",
      "| \"Mushroom butter on toast\"               |\n",
      "| \"Snowman cake\"                           |\n",
      "+------------------------------------------+\n",
      "\n",
      "10 rows\n",
      "ready to start consuming query after 129 ms, results consumed after another 6 ms\n"
     ]
    }
   ],
   "source": [
    "%%neo \n",
    "MATCH (r:Recipe)\n",
    "WHERE (r)-[:CONTAINS_INGREDIENT]->(:Ingredient {name: 'butter'})\n",
    "AND   (r)-[:DIET_TYPE]->(:DietType {name: 'Vegetarian'})\n",
    "RETURN r.name AS recipe\n",
    "LIMIT 10"
   ]
  },
  {
   "cell_type": "code",
   "execution_count": 11,
   "id": "71b46af7-8caf-4f47-b1fd-763bfccfa577",
   "metadata": {},
   "outputs": [
    {
     "name": "stdout",
     "output_type": "stream",
     "text": [
      "+-------------------------------------------------------+\n",
      "| recipe                                                |\n",
      "+-------------------------------------------------------+\n",
      "| \"Baked nectarines & raspberries with almonds & honey\" |\n",
      "| \"Cherry & almond tarts\"                               |\n",
      "| \"Jewelled wild rice with almonds\"                     |\n",
      "| \"Mini blackberry Bakewells\"                           |\n",
      "| \"Spiced lamb pilaf\"                                   |\n",
      "| \"Fruity summer sundaes\"                               |\n",
      "| \"Pear & cardamom tart\"                                |\n",
      "| \"Fish tagine with saffron & almonds\"                  |\n",
      "| \"Help-yourself grain fridge salad\"                    |\n",
      "| \"Cherry Bakewell sponge pudding\"                      |\n",
      "+-------------------------------------------------------+\n",
      "\n",
      "10 rows\n",
      "ready to start consuming query after 176 ms, results consumed after another 45 ms\n"
     ]
    }
   ],
   "source": [
    "%%neo \n",
    "MATCH (r:Recipe)\n",
    "WHERE (r)-[:CONTAINS_INGREDIENT]->(:Ingredient {name: 'nectarine'})\n",
    "OR   (r)-[:CONTAINS_INGREDIENT]->(:Ingredient {name: 'flaked almond'})\n",
    "RETURN r.name AS recipe\n",
    "LIMIT 10"
   ]
  },
  {
   "cell_type": "code",
   "execution_count": 12,
   "id": "24678fc8-2e80-489c-b5f5-0c078767f8be",
   "metadata": {},
   "outputs": [
    {
     "name": "stdout",
     "output_type": "stream",
     "text": [
      "+-------------------------------------------------------+\n",
      "| recipe                                                |\n",
      "+-------------------------------------------------------+\n",
      "| \"Baked nectarines & raspberries with almonds & honey\" |\n",
      "| \"Chocolate & caramel ombre cake\"                      |\n",
      "| \"Poppyseed & honey cake\"                              |\n",
      "| \"Pistachio & cranberry cookies\"                       |\n",
      "| \"Smoked mash\"                                         |\n",
      "| \"Roast venison loin with pumpkin & Sichuan salt\"      |\n",
      "| \"Seared duck with ginger mash\"                        |\n",
      "| \"SautÃ©ed artichokes, potatoes & egg\"                 |\n",
      "| \"Peach & almond tart\"                                 |\n",
      "| \"Cherry & almond tarts\"                               |\n",
      "+-------------------------------------------------------+\n",
      "\n",
      "10 rows\n",
      "ready to start consuming query after 133 ms, results consumed after another 4 ms\n"
     ]
    }
   ],
   "source": [
    "%%neo \n",
    "MATCH (r:Recipe)\n",
    "WHERE (r)-[:CONTAINS_INGREDIENT]->(:Ingredient {name: 'golden caster sugar'})\n",
    "OR  (r)-[:DIET_TYPE]->(:DietType {name: 'Gluten-free'})\n",
    "RETURN r.name AS recipe\n",
    "LIMIT 10"
   ]
  },
  {
   "cell_type": "code",
   "execution_count": null,
   "id": "00018201-750a-4beb-995c-c591a28461e7",
   "metadata": {},
   "outputs": [],
   "source": [
    "MATCH (r:Recipe)\n",
    "WHERE (r)-[:CONTAINS_INGREDIENT]->(:Ingredient {name: 'chilli'})\n",
    "AND   (r)-[:CONTAINS_INGREDIENT]->(:Ingredient {name: 'prawn'})\n",
    "RETURN r.name AS recipe"
   ]
  },
  {
   "cell_type": "code",
   "execution_count": 25,
   "id": "3504bb7c-97f2-4cca-bc72-03b2d24d7645",
   "metadata": {},
   "outputs": [],
   "source": [
    "# Return all labels with their node count"
   ]
  },
  {
   "cell_type": "code",
   "execution_count": 22,
   "id": "8039a323-8103-407c-b267-c724f159d373",
   "metadata": {},
   "outputs": [
    {
     "name": "stdout",
     "output_type": "stream",
     "text": [
      "+----------------------------+\n",
      "| Label          | NodeCount |\n",
      "+----------------------------+\n",
      "| [\"Recipe\"]     | 11634     |\n",
      "| [\"Author\"]     | 303       |\n",
      "| [\"Ingredient\"] | 3077      |\n",
      "| [\"DietType\"]   | 12        |\n",
      "| [\"Collection\"] | 1049      |\n",
      "+----------------------------+\n",
      "\n",
      "5 rows\n",
      "ready to start consuming query after 5 ms, results consumed after another 10 ms\n"
     ]
    }
   ],
   "source": [
    "%%neo \n",
    "MATCH (n)\n",
    "RETURN DISTINCT labels(n) AS Label, COUNT(*) AS NodeCount"
   ]
  },
  {
   "cell_type": "code",
   "execution_count": 23,
   "id": "ee09215c-d428-48e1-8946-d2d1576bcc8a",
   "metadata": {},
   "outputs": [],
   "source": [
    "# Return all relationship types with their count"
   ]
  },
  {
   "cell_type": "code",
   "execution_count": 24,
   "id": "15230259-c253-4d9a-8ba4-53603d7e3de3",
   "metadata": {},
   "outputs": [
    {
     "name": "stdout",
     "output_type": "stream",
     "text": [
      "+-------------------------------------------+\n",
      "| RelationshipType      | RelationshipCount |\n",
      "+-------------------------------------------+\n",
      "| \"CONTAINS_INGREDIENT\" | 106148            |\n",
      "| \"COLLECTION\"          | 32240             |\n",
      "| \"DIET_TYPE\"           | 14858             |\n",
      "| \"WROTE\"               | 11634             |\n",
      "+-------------------------------------------+\n",
      "\n",
      "4 rows\n",
      "ready to start consuming query after 4 ms, results consumed after another 24 ms\n"
     ]
    }
   ],
   "source": [
    "%%neo \n",
    "MATCH ()-[r]->()\n",
    "RETURN DISTINCT type(r) AS RelationshipType, COUNT(*) AS RelationshipCount"
   ]
  },
  {
   "cell_type": "code",
   "execution_count": 26,
   "id": "fe786662-a8be-46e6-91c0-4aefe8e458af",
   "metadata": {},
   "outputs": [],
   "source": [
    "# Finds recipes that contain chicken and broccoli"
   ]
  },
  {
   "cell_type": "code",
   "execution_count": 27,
   "id": "f332df92-8336-450e-bcae-7b76e958e809",
   "metadata": {},
   "outputs": [
    {
     "name": "stdout",
     "output_type": "stream",
     "text": [
      "+---------------------------------------------------------------------------------------------------------------------------------------------------------------------------------------------------------------------------------------------------------------------------------------------------------------+\n",
      "| r                                                                                                                                                                                                                                                                                                             |\n",
      "+---------------------------------------------------------------------------------------------------------------------------------------------------------------------------------------------------------------------------------------------------------------------------------------------------------------+\n",
      "| (:Recipe {name: \"Broccoli lemon chicken with cashews\", preparationTime: 0, description: \"A superhealthy meal for two - full of vitamin C. You could use ordinary broccoli instead of tender stem\", id: \"102748\", skillLevel: \"Easy\", cookingTime: 0})                                                         |\n",
      "| (:Recipe {preparationTime: 300, name: \"Chicken & broccoli pasta bake\", description: \"This dish can be assembled ready for baking a good few hours ahead - and it's all cooked in one pan\", id: \"95288\", skillLevel: \"Easy\", cookingTime: 2100})                                                               |\n",
      "| (:Recipe {name: \"Chicken & broccoli potato-topped pie\", preparationTime: 2100, description: \"Cook this low-calorie chicken pie using a base recipe that you can prepare ahead of time and freeze. It makes an easy, tasty and nutritious family meal\", id: \"6728476\", skillLevel: \"Easy\", cookingTime: 5100}) |\n",
      "| (:Recipe {name: \"15-minute chicken pasta\", preparationTime: 0, description: \"Enjoy fast food with a mouthwateringly healthy chicken pasta - low in fat too\", id: \"94997\", skillLevel: \"Easy\", cookingTime: 900})                                                                                              |\n",
      "| (:Recipe {name: \"Lemon & garlic roast chicken with charred broccoli & sweet potato mash\", preparationTime: 600, description: \"A healthy, all-in-one roast lunch, that supplies two portions of veg and a vitamin C boost\", id: \"4270866\", skillLevel: \"Easy\", cookingTime: 4500})                             |\n",
      "+---------------------------------------------------------------------------------------------------------------------------------------------------------------------------------------------------------------------------------------------------------------------------------------------------------------+\n",
      "\n",
      "5 rows\n",
      "ready to start consuming query after 19 ms, results consumed after another 6 ms\n"
     ]
    }
   ],
   "source": [
    "%%neo \n",
    "MATCH (r:Recipe)-[:CONTAINS_INGREDIENT]->(i:Ingredient)\n",
    "WHERE i.name = \"chicken\" AND (r)-[:CONTAINS_INGREDIENT]->(:Ingredient {name: \"broccoli\"})\n",
    "RETURN r"
   ]
  },
  {
   "cell_type": "code",
   "execution_count": 28,
   "id": "64994d27-19ae-4cf2-94dd-a4ddabaa58bc",
   "metadata": {},
   "outputs": [],
   "source": [
    "# Finds recipes that contain couscous and salmon"
   ]
  },
  {
   "cell_type": "code",
   "execution_count": 29,
   "id": "f639e873-69ba-4935-95c8-5a3e0f6b702b",
   "metadata": {},
   "outputs": [
    {
     "name": "stdout",
     "output_type": "stream",
     "text": [
      "+-----------------------------------------------------------------------------------------------------------------------------------------------------------------------------------------------------------------------------------------------------------------------------------------------------------------+\n",
      "| r                                                                                                                                                                                                                                                                                                               |\n",
      "+-----------------------------------------------------------------------------------------------------------------------------------------------------------------------------------------------------------------------------------------------------------------------------------------------------------------+\n",
      "| (:Recipe {name: \"Harissa roast salmon with lemon chickpea couscous\", preparationTime: 1800, description: \"Roast whole sides of salmon with Middle Eastern spices and serve with tangy citrus and currant couscous - perfect for feeding a crowd\", id: \"4565931\", skillLevel: \"More effort\", cookingTime: 3000}) |\n",
      "| (:Recipe {name: \"Superhealthy salmon salad\", preparationTime: 1200, description: \"Superhealthy by name, superhealthy by nature: this salad is high in omega-3, iron and calcium and counts as 2 of your 5-a-day\", id: \"102405\", skillLevel: \"Easy\", cookingTime: 300})                                          |\n",
      "+-----------------------------------------------------------------------------------------------------------------------------------------------------------------------------------------------------------------------------------------------------------------------------------------------------------------+\n",
      "\n",
      "2 rows\n",
      "ready to start consuming query after 19 ms, results consumed after another 4 ms\n"
     ]
    }
   ],
   "source": [
    "%%neo \n",
    "MATCH (r:Recipe)-[:CONTAINS_INGREDIENT]->(i:Ingredient)\n",
    "WHERE i.name = \"couscous\" AND (r)-[:CONTAINS_INGREDIENT]->(:Ingredient {name: \"salmon\"})\n",
    "RETURN r"
   ]
  },
  {
   "cell_type": "code",
   "execution_count": 30,
   "id": "6a48647b-c6c7-40d0-a9a7-3b3566bd1daa",
   "metadata": {},
   "outputs": [],
   "source": [
    "# Finds 15 recipes that don't contain beef or pork"
   ]
  },
  {
   "cell_type": "code",
   "execution_count": 31,
   "id": "cde33eaa-162c-4f84-812f-efa33e45e0e4",
   "metadata": {},
   "outputs": [
    {
     "name": "stdout",
     "output_type": "stream",
     "text": [
      "+------------------------------------------------------------------------------------------------------------------------------------------------------------------------------------------------------------------------------------------------------------------------------------------------------------+\n",
      "| r                                                                                                                                                                                                                                                                                                          |\n",
      "+------------------------------------------------------------------------------------------------------------------------------------------------------------------------------------------------------------------------------------------------------------------------------------------------------------+\n",
      "| (:Recipe {name: \"Slow cooker lamb tagine\", preparationTime: 1200, description: \"Cook something hearty and exotic for the family when it's cold outside, like our lamb tagine. If you can't get dried cherries, use apricots or prunes instead\", id: \"7512731\", skillLevel: \"Easy\", cookingTime: 14400})    |\n",
      "| (:Recipe {name: \"Summer couscous salad\", preparationTime: 0, description: \"A Middle Eastern treat, ready in minutes\", id: \"95842\", skillLevel: \"Easy\", cookingTime: 2400})                                                                                                                                 |\n",
      "| (:Recipe {name: \"Moroccan chicken one-pot\", preparationTime: 1200, description: \"You don't need a clay pot to whip up a fragrant, North Africa tagine - throw it all in a casserole dish and top with feta, mint and lemon\", id: \"94652\", skillLevel: \"Easy\", cookingTime: 3000})                          |\n",
      "| (:Recipe {name: \"Whole stuffed roast fish with fennel\", preparationTime: 900, description: \"This roast fish dish was inspired by Sicily, where the aromatic spices and dried fruit of Arabian cuisine meet with the fresh fish and veg of the Med\", id: \"4423261\", skillLevel: \"Easy\", cookingTime: 3000}) |\n",
      "| (:Recipe {name: \"Spiced duck & date tagine\", preparationTime: 900, description: \"Duck legs are stewed in a slow cooker with rich Moroccan spices until meltingly tender - serve over fluffy couscous or rice\", id: \"4581741\", skillLevel: \"Easy\", cookingTime: 19200})                                     |\n",
      "| (:Recipe {preparationTime: 0, name: \"Couscous & falafel salad with minty yogurt\", description: \"This no-cook, mezze-style platter can be whipped up in no time using supermarket or deli ingredients\", id: \"97195\", skillLevel: \"Easy\", cookingTime: 0})                                                   |\n",
      "| (:Recipe {preparationTime: 600, name: \"Spicy baby aubergine stew with coriander & mint\", description: \"Superhealthy and high in fibre too, this miraculous Middle Eastern one-pot is under 150 calories per serve and counts as 5 of your 5-a-day\", id: \"98770\", skillLevel: \"Easy\", cookingTime: 2700})   |\n",
      "| (:Recipe {name: \"Moroccan stuffed chicken\", preparationTime: 600, description: \"Stuff your couscous inside the chicken rather than serving it alongside and the spicy flavours will really get into the meat\", id: \"102372\", skillLevel: \"Easy\", cookingTime: 1200})                                       |\n",
      "| (:Recipe {preparationTime: 1200, name: \"Chickpea & roasted veg tagine\", description: \"This veggie Moroccan-style stew tastes even better if made a few hours before, or even a day in advance\", id: \"99531\", skillLevel: \"Easy\", cookingTime: 3000})                                                       |\n",
      "| (:Recipe {preparationTime: 900, name: \"Lighter lamb burgers with smoky oven chips\", description: \"These burgers have couscous and carrot in the mix, making them nutritionally balanced, as well as full of flavour\", id: \"102315\", skillLevel: \"Easy\", cookingTime: 2100})                                |\n",
      "| (:Recipe {name: \"Halloumi with broccoli tabbouleh & honey-harissa dressing\", preparationTime: 0, description: \"Couscous makes a great base for a quick salad. Flavour with smoky harissa, sweet honey and herbs, then top with fried cheese slices\", id: \"3406636\", skillLevel: \"Easy\", cookingTime: 0})   |\n",
      "| (:Recipe {preparationTime: 900, name: \"Moroccan turkey meatballs with citrus couscous\", description: \"Lighter than pasta and packed with protein - these meatballs make for a satisfying and superhealthy supper \", id: \"100647\", skillLevel: \"Easy\", cookingTime: 900})                                   |\n",
      "| (:Recipe {name: \"Guinea fowl tagine\", preparationTime: 1800, description: \"This is wonderful, honest, one-pot food - stick it in the middle of the table and let everyone help themselves\", id: \"101743\", skillLevel: \"Easy\", cookingTime: 5400})                                                          |\n",
      "| (:Recipe {preparationTime: 1200, name: \"Moroccan tomato & chickpea soup with couscous \", description: \"This filling soup is healthy and packed with the flavours of North Africa: harissa, ginger, lemon and coriander\", id: \"99504\", skillLevel: \"Easy\", cookingTime: 2700})                              |\n",
      "| (:Recipe {name: \"Spiced lamb kebabs with pea & herb couscous\", preparationTime: 1200, description: \"These peppery paprika lamb skewers are barbecue friendly. Serve with a vegetable couscous flavoured with mint and coriander\", id: \"4359166\", skillLevel: \"Easy\", cookingTime: 1200})                   |\n",
      "+------------------------------------------------------------------------------------------------------------------------------------------------------------------------------------------------------------------------------------------------------------------------------------------------------------+\n",
      "\n",
      "15 rows\n",
      "ready to start consuming query after 60 ms, results consumed after another 2 ms\n"
     ]
    }
   ],
   "source": [
    "%%neo \n",
    "MATCH (r:Recipe)-[:CONTAINS_INGREDIENT]->(i:Ingredient)\n",
    "WHERE NOT(i.name = \"beef\" OR i.name = \"pork\")\n",
    "RETURN r\n",
    "LIMIT 15"
   ]
  },
  {
   "cell_type": "code",
   "execution_count": 32,
   "id": "c2ead8cc-418a-41bd-9961-46cdb69c09d0",
   "metadata": {},
   "outputs": [],
   "source": [
    "# Finds 20 recipes that don't contain egg or milk"
   ]
  },
  {
   "cell_type": "code",
   "execution_count": 33,
   "id": "341562b7-b708-43a6-9387-50a47f8ebae8",
   "metadata": {},
   "outputs": [
    {
     "name": "stdout",
     "output_type": "stream",
     "text": [
      "+-------------------------------------------------------------------------------------------------------------------------------------------------------------------------------------------------------------------------------------------------------------------------------------------------------------------------------------------------------+\n",
      "| r                                                                                                                                                                                                                                                                                                                                                     |\n",
      "+-------------------------------------------------------------------------------------------------------------------------------------------------------------------------------------------------------------------------------------------------------------------------------------------------------------------------------------------------------+\n",
      "| (:Recipe {name: \"Turkey, bacon & chorizo bombe\", preparationTime: 2400, description: \"Inspired by the internet sensation that is the bacon bombe, we've devised a Christmas cracker of a roast turkey with a stuffing of bacon and chorizo\", id: \"6884886\", skillLevel: \"More effort\", cookingTime: 4500})                                            |\n",
      "| (:Recipe {name: \"Griddle scones with honey\", preparationTime: 0, description: \"Quick and easy to make with storecupboard ingredients, griddle scones go perfectly with creamy honey and butter\", id: \"98291\", skillLevel: \"Easy\", cookingTime: 0})                                                                                                    |\n",
      "| (:Recipe {preparationTime: 900, name: \"Herby chickpea balls with tomato sauce\", description: \"Vegetarians don't need to miss out on pasta with meatballs, with this no-fuss meat-free version\", id: \"95280\", skillLevel: \"Easy\", cookingTime: 1200})                                                                                                  |\n",
      "| (:Recipe {name: \"Sticky banana & maple cake\", preparationTime: 2100, description: \"This childhood favourite is sticky, indulgent and completely moreish\", id: \"97898\", skillLevel: \"Easy\", cookingTime: 3600})                                                                                                                                        |\n",
      "| (:Recipe {preparationTime: 1500, name: \"Meatballs with spicy chipotle tomato sauce\", description: \"Mexican chipotle pepper paste gives this everyday pork supper a smoky, spicy flavour\", id: \"103221\", skillLevel: \"Easy\", cookingTime: 1800})                                                                                                       |\n",
      "| (:Recipe {name: \"Summer vegetable & quailâ€™s egg tart\", preparationTime: 1500, description: \"A bread mix makes an easy cheat's base and is delicious topped with a creamy pea filling, broad beans, leeks, asparagus and cracked eggs\", id: \"5204251\", skillLevel: \"More effort\", cookingTime: 1800})                                                |\n",
      "| (:Recipe {name: \"Cinnamon pecan sticky buns\", preparationTime: 1800, description: \"Enjoy a lazy Sunday morning with this indulgent brunch recipe\", id: \"101008\", skillLevel: \"More effort\", cookingTime: 1800})                                                                                                                                       |\n",
      "| (:Recipe {name: \"Caramelised figgy bread & butter pudding\", preparationTime: 1200, description: \"Liven up bread and butter pudding by adding sticky figs and pecans, drizzled with caramel sauce. It's a delicious way to use up stale bread\", id: \"4466661\", skillLevel: \"Easy\", cookingTime: 3000})                                                 |\n",
      "| (:Recipe {name: \"American blueberry pancakes\", preparationTime: 900, description: \"Light, fluffy and fruity, these pancakes are a US classic. Serve them stacked high with syrup and extra fruit\", id: \"96969\", skillLevel: \"Easy\", cookingTime: 1200})                                                                                               |\n",
      "| (:Recipe {name: \"Turkey bubble & squeak\", preparationTime: 900, description: \"This easy turkey recipe from Joe Wicks uses up leftover meat and veg from Christmas. It’s lean too, meaning you can get an early start on the New Year new you!\", id: \"6230561\", skillLevel: \"Easy\", cookingTime: 600})                                                 |\n",
      "| (:Recipe {preparationTime: 0, name: \"Soft herb scrambled egg with asparagus\", description: \"A luxurious breakfast for two...\", id: \"93821\", skillLevel: \"Easy\", cookingTime: 0})                                                                                                                                                                      |\n",
      "| (:Recipe {preparationTime: 3600, name: \"Ricotta & spinach filo bites\", description: \"The perfect pre-dinner nibble, these crispy bites add a taste of Greece to any dinner party or picnic \", id: \"97834\", skillLevel: \"More effort\", cookingTime: 1080})                                                                                             |\n",
      "| (:Recipe {name: \"Raggmunk\", preparationTime: 600, description: \"These crispy potato and carrot fritters are a cross between pancakes and a rÃ¶sti - a classic Swedish side dish to meat and fish dishes\", id: \"5388156\", skillLevel: \"Easy\", cookingTime: 600})                                                                                       |\n",
      "| (:Recipe {name: \"Marzipan Eccles tarts\", preparationTime: 3000, description: \"This fun spin on the traditional Lancashire fruit cakes uses leftover marzipan to make irresistible individual pies\", id: \"100686\", skillLevel: \"Easy\", cookingTime: 1500})                                                                                             |\n",
      "| (:Recipe {name: \"Korean fishcakes with fried eggs & spicy salsa\", preparationTime: 900, description: \"This isn't your average fishcake recipe. Bursting with oriental flavours - soy sauce, fresh ginger, spring onions and gochujang, topped with a rich runny yolk - this recipe has it all\", id: \"5656336\", skillLevel: \"Easy\", cookingTime: 720}) |\n",
      "| (:Recipe {preparationTime: 1200, name: \"Minced beef pie & minty mushy peas\", description: \"A traditional beef pie featuring carrots, celery, onion, gravy and puff pastry with a side of flavoured mushy peas\", id: \"97260\", skillLevel: \"Easy\", cookingTime: 2700})                                                                                  |\n",
      "| (:Recipe {name: \"Sweet German dumplings (dampfnudel)\", preparationTime: 1800, description: \"Dessert German-style, these little dumplings, or 'dampfnudel', can be sweet or savoury. Ours are poached to perfection and bathed in vanilla custard - a comfort-food classic\", id: \"6062911\", skillLevel: \"More effort\", cookingTime: 3000})             |\n",
      "| (:Recipe {name: \"Homemade marzipan thins\", preparationTime: 1500, description: \"Sweet treats for friends and family\", id: \"95309\", skillLevel: \"Easy\", cookingTime: 0})                                                                                                                                                                               |\n",
      "| (:Recipe {name: \"Pick & mix omelette with crunchy croutons\", preparationTime: 300, description: \"Use up leftover sandwich fillings to customise an omelette. Kids will love it, along with the crunch of croutons to make a more exciting supper\", id: \"7313911\", skillLevel: \"Easy\", cookingTime: 300})                                              |\n",
      "| (:Recipe {name: \"Unicorn biscuits\", preparationTime: 900, description: \"Swirly vanilla cookies, edged with sprinkles and stars – these unicorn-inspired biscuits are ideal for kids' parties or as a fun home baking activity\", id: \"6472681\", skillLevel: \"Easy\", cookingTime: 1800})                                                                |\n",
      "+-------------------------------------------------------------------------------------------------------------------------------------------------------------------------------------------------------------------------------------------------------------------------------------------------------------------------------------------------------+\n",
      "\n",
      "20 rows\n",
      "ready to start consuming query after 54 ms, results consumed after another 2 ms\n"
     ]
    }
   ],
   "source": [
    "%%neo \n",
    "MATCH (r:Recipe)-[:CONTAINS_INGREDIENT]->(i:Ingredient)\n",
    "WHERE i.name = \"egg\" OR i.name = \"milk\"\n",
    "RETURN r\n",
    "LIMIT 20"
   ]
  },
  {
   "cell_type": "code",
   "execution_count": 34,
   "id": "fd20228f-15b7-4a2f-a2bc-822f5e95b0da",
   "metadata": {},
   "outputs": [],
   "source": [
    "# Finds recipes have chicken, is written by Good Food, and are low-salt"
   ]
  },
  {
   "cell_type": "code",
   "execution_count": 35,
   "id": "e3a77379-a6cb-4f6c-9dd7-3242e5ddbcf3",
   "metadata": {},
   "outputs": [
    {
     "name": "stdout",
     "output_type": "stream",
     "text": [
      "+--------------------------------------------------------------------------------------------------------------------------------------------------------------------------------------------------------------------------------------------------------------------------------------------------+\n",
      "| r                                                                                                                                                                                                                                                                                                |\n",
      "+--------------------------------------------------------------------------------------------------------------------------------------------------------------------------------------------------------------------------------------------------------------------------------------------------+\n",
      "| (:Recipe {preparationTime: 0, name: \"Griddled chicken with quinoa Greek salad\", description: \"A light dish of grilled chicken fillets and authentic salad with Kalamata olives, feta cheese, tomato and mint\", id: \"97473\", skillLevel: \"Easy\", cookingTime: 0})                                 |\n",
      "| (:Recipe {preparationTime: 600, name: \"Succulent honey & lemon chicken\", description: \"This succulent chicken one pot makes for a quick, no-fuss supper\", id: \"96283\", skillLevel: \"Easy\", cookingTime: 3600})                                                                                   |\n",
      "| (:Recipe {preparationTime: 300, name: \"Chicken & broccoli pasta bake\", description: \"This dish can be assembled ready for baking a good few hours ahead - and it's all cooked in one pan\", id: \"95288\", skillLevel: \"Easy\", cookingTime: 2100})                                                  |\n",
      "| (:Recipe {name: \"Leek & potato soup\", preparationTime: 1200, description: \"Of the winter soups, leek and potato is one of the most comforting and familiar - and Darina Allen's makes the most of seasonal, local veg\", id: \"100410\", skillLevel: \"Easy\", cookingTime: 1500})                    |\n",
      "| (:Recipe {name: \"Mustardy pork & apples\", preparationTime: 300, description: \"Make yourself a wholesome and traditional British square meal with this recipe\", id: \"93654\", skillLevel: \"Easy\", cookingTime: 1200})                                                                              |\n",
      "| (:Recipe {name: \"Easy Indian chicken with coleslaw\", preparationTime: 600, description: \"Aromatic spices combined with the crisp crunch of homemade coleslaw make this a winning combination\", id: \"102942\", skillLevel: \"Easy\", cookingTime: 3000})                                             |\n",
      "| (:Recipe {preparationTime: 600, name: \"All-in-one chicken, squash & new potato casserole\", description: \"Try a healthy dinner that's packed with goodness and will set you on the way to lower your cholesterol\", id: \"96266\", skillLevel: \"Easy\", cookingTime: 2100})                           |\n",
      "| (:Recipe {name: \"Spatchcock barbecue chicken\", preparationTime: 1200, description: \"An ultra-tasty addition to your barbecue meal\", id: \"101312\", skillLevel: \"A challenge\", cookingTime: 3600})                                                                                                 |\n",
      "| (:Recipe {preparationTime: 0, name: \"Sticky chicken & blood orange stir fry\", description: \"Try this East-meets-West stir fry where flavours mingle\", id: \"93408\", skillLevel: \"Easy\", cookingTime: 0})                                                                                          |\n",
      "| (:Recipe {name: \"Chicken & leek pie\", preparationTime: 0, description: \"A hearty gluten- and wheat-free pie to warm up those winter evenings\", id: \"93416\", skillLevel: \"Easy\", cookingTime: 0})                                                                                                 |\n",
      "| (:Recipe {name: \"Lime & coriander chicken\", preparationTime: 1800, description: \"Everyone will think you've used chilli, but the fieriness of this dish is simply crushed black pepper\", id: \"93431\", skillLevel: \"Easy\", cookingTime: 2400})                                                    |\n",
      "| (:Recipe {preparationTime: 1200, name: \"Honey-mustard roast chicken with bubble & squeak\", description: \"Try a twist on the traditional roast chicken with a honey-mustard glaze and bubble & squeak to use up leftover mash\", id: \"103112\", skillLevel: \"Easy\", cookingTime: 6600})             |\n",
      "| (:Recipe {name: \"Spiced parsnip & ham soup\", preparationTime: 300, description: \"Use up your Christmas roast leftovers in this creamy soup\", id: \"99938\", skillLevel: \"Easy\", cookingTime: 1200})                                                                                                |\n",
      "| (:Recipe {preparationTime: 1800, name: \"Poached chicken with lemon & tarragon sauce \", description: \"Poached chicken with lemon in a deliciously creamy tarragon sauce - serve simply with rice or potatoes\", id: \"98953\", skillLevel: \"Easy\", cookingTime: 0})                                  |\n",
      "| (:Recipe {name: \"No-roll chicken pastry wraps\", preparationTime: 3000, description: \"These wraps look sophisticated but require almost no effort - there's no rolling and no waste\", id: \"93577\", skillLevel: \"Easy\", cookingTime: 1800})                                                        |\n",
      "| (:Recipe {name: \"Spicy meatballs\", preparationTime: 900, description: \"These are great to make with the kids. Teach them about handling raw meat and using different flavours\", id: \"94898\", skillLevel: \"Easy\", cookingTime: 1500})                                                             |\n",
      "| (:Recipe {preparationTime: 0, name: \"Tarragon & mustard roasted free-range chicken\", description: \"A succulent chicken roast, full of herby flavour - the mustard adds a great new taste\", id: \"93840\", skillLevel: \"More effort\", cookingTime: 0})                                              |\n",
      "| (:Recipe {name: \"Simple roast chicken\", preparationTime: 600, description: \"Perfect your Sunday lunch with this simple but succulent roast chicken\", id: \"101285\", skillLevel: \"Easy\", cookingTime: 4200})                                                                                       |\n",
      "| (:Recipe {name: \"Chicken tikka wraps\", preparationTime: 600, description: \"These easy wraps take just 10 minutes to prepare and are a great healthy snack on the run\", id: \"93521\", skillLevel: \"Easy\", cookingTime: 300})                                                                       |\n",
      "| (:Recipe {name: \"Crunchy red cabbage slaw\", preparationTime: 900, description: \"Make this crunchy coleslaw into a homely supper with roast chicken and mustardy mayo, or glam it up Asian-style with lime, herbs and juicy grilled chicken\", id: \"98282\", skillLevel: \"Easy\", cookingTime: 900}) |\n",
      "| (:Recipe {preparationTime: 900, name: \"Lemon & thyme butter-basted roast chicken & gravy\", description: \"Smoothing butter under the bird's skin helps to baste the chicken and herbs add a delicious flavour to the gravy\", id: \"100483\", skillLevel: \"Easy\", cookingTime: 6000})                |\n",
      "| (:Recipe {name: \"15-minute chicken pasta\", preparationTime: 0, description: \"Enjoy fast food with a mouthwateringly healthy chicken pasta - low in fat too\", id: \"94997\", skillLevel: \"Easy\", cookingTime: 900})                                                                                 |\n",
      "| (:Recipe {preparationTime: 1200, name: \"Roast chicken with whole garlic, bay & white wine\", description: \"Pack your roast full of flavour with this spring recipe using mild wet garlic, a seasonal treat\", id: \"99877\", skillLevel: \"More effort\", cookingTime: 5400})                          |\n",
      "| (:Recipe {name: \"Garden herb chicken\", preparationTime: 1200, description: \"A one-pan roast chicken that makes use of whatever herbs you have in your garden\", id: \"96670\", skillLevel: \"Easy\", cookingTime: 4500})                                                                              |\n",
      "| (:Recipe {name: \"Diamond Jubilee chicken\", preparationTime: 1500, description: \"Update Coronation chicken with this salad of mild spices, apple, walnuts, yoghurt sauce and pomegranate\", id: \"98855\", skillLevel: \"Easy\", cookingTime: 9000})                                                   |\n",
      "| (:Recipe {preparationTime: 900, name: \"One-pan roast chicken & potatoes\", description: \"Bring the pan straight to the table and use the juices to make a light, lemony gravy for the perfect summer roast\", id: \"96515\", skillLevel: \"Easy\", cookingTime: 6000})                                 |\n",
      "| (:Recipe {preparationTime: 900, name: \"Chicken with braised celery & cider\", description: \"The perfect dish for warming those chilly nights around the dining table.\", id: \"102142\", skillLevel: \"Easy\", cookingTime: 6000})                                                                     |\n",
      "| (:Recipe {preparationTime: 0, name: \"Roasted chicken & new potato salad\", description: \"Throw together a lovely summery roasted chicken and new potato salad - good source of vitamin C\", id: \"98306\", skillLevel: \"Easy\", cookingTime: 0})                                                      |\n",
      "| (:Recipe {name: \"One-pan roast dinner\", preparationTime: 1200, description: \"Take the stress out of a Sunday roast with this one-pan recipe that couldn't be simpler\", id: \"101881\", skillLevel: \"Easy\", cookingTime: 4800})                                                                     |\n",
      "| (:Recipe {name: \"Horseradish chicken tartlets\", preparationTime: 0, description: \"These tasty snacks are easy to prepare and will disappear quickly at any drinks party\", id: \"93809\", skillLevel: \"Easy\", cookingTime: 0})                                                                      |\n",
      "| (:Recipe {name: \"Sticky lemon chicken\", preparationTime: 900, description: \"This tasty, low-fat lemon chicken recipe has a Mediterranean feel and just four ingredients- chicken, lemon, thyme and honey\", id: \"102669\", skillLevel: \"Easy\", cookingTime: 900})                                  |\n",
      "| (:Recipe {preparationTime: 600, name: \"Chicken, lentil & sweetcorn chowder\", description: \"A winter warmer without the calories. Try making double and freezing for extra-quick midweek meals\", id: \"95790\", skillLevel: \"Easy\", cookingTime: 1500})                                             |\n",
      "| (:Recipe {preparationTime: 600, name: \"Braised chicken with olives and tomatoes\", description: \"An impressive all-in-one bake bursting with Mediterranean flavours\", id: \"102232\", skillLevel: \"Easy\", cookingTime: 1500})                                                                       |\n",
      "| (:Recipe {name: \"CanapÃ©s & cocktails\", preparationTime: 0, description: \"This smart cocktail and these simple canapÃ©s will get the party started with maximum fun and minimum fuss\", id: \"95512\", skillLevel: \"Easy\", cookingTime: 0})                                                         |\n",
      "+--------------------------------------------------------------------------------------------------------------------------------------------------------------------------------------------------------------------------------------------------------------------------------------------------+\n",
      "\n",
      "34 rows\n",
      "ready to start consuming query after 27 ms, results consumed after another 51 ms\n"
     ]
    }
   ],
   "source": [
    "%%neo \n",
    "MATCH (r:Recipe)\n",
    "WHERE (r)-[:CONTAINS_INGREDIENT]->(:Ingredient {name: \"chicken\"}) \n",
    "AND (:Author {name:\"Good Food\"})-[:WROTE]->(r) \n",
    "AND (r)-[:DIET_TYPE]->(:DietType {name: \"Low-salt\"})\n",
    "RETURN r"
   ]
  },
  {
   "cell_type": "code",
   "execution_count": 36,
   "id": "5dc1a925-c88b-4002-993c-90f5660f477a",
   "metadata": {},
   "outputs": [],
   "source": [
    "# Finds recipes use butter, is written by Miriam Nice, and are vegetarian"
   ]
  },
  {
   "cell_type": "code",
   "execution_count": 37,
   "id": "503e78e3-dc9c-41b1-8373-b0ba7182c931",
   "metadata": {},
   "outputs": [
    {
     "name": "stdout",
     "output_type": "stream",
     "text": [
      "+---------------------------------------------------------------------------------------------------------------------------------------------------------------------------------------------------------------------------------------------------------------------------------------------------------------------------------------+\n",
      "| r                                                                                                                                                                                                                                                                                                                                     |\n",
      "+---------------------------------------------------------------------------------------------------------------------------------------------------------------------------------------------------------------------------------------------------------------------------------------------------------------------------------------+\n",
      "| (:Recipe {name: \"Cauliflower croquettes\", preparationTime: 1500, description: \"Upgrade a comfort classic into a modern snack to nibble during drinks with friends. These delicious deep-fried cauliflower croquettes are seriously addictive\", id: \"6452101\", skillLevel: \"Easy\", cookingTime: 1200})                                 |\n",
      "| (:Recipe {name: \"Charred Brussels sprouts with Marmite butter\", preparationTime: 600, description: \"Marmite and sprouts may sound like a nightmare combination, but trust us: it works. Try our recipe and it's sure to become a Christmas tradition\", id: \"6884791\", skillLevel: \"Easy\", cookingTime: 600})                          |\n",
      "| (:Recipe {name: \"Buttered baby carrots\", preparationTime: 300, description: \"There's nothing better than soft, buttery carrots to go along with your favourite roast. You can keep this side simple or tweak it with our delicious twists\", id: \"6188076\", skillLevel: \"Easy\", cookingTime: 600})                                     |\n",
      "| (:Recipe {name: \"Sweet shortcrust pastry\", preparationTime: 1200, description: \"Learn how to make sweet shortcrust pastry. You'll be surprised how easy it is, then you can make all sorts of desserts like our apple and blackberry pies\", id: \"6826986\", skillLevel: \"Easy\", cookingTime: 0})                                       |\n",
      "| (:Recipe {name: \"Chocolate & sesame loaf cake\", preparationTime: 1200, description: \"Tahini gives this cake a subtle nutty flavour that partners perfectly with rich chocolate. This recipe makes 2 cakes, so why not freeze one as a treat for another day!\", id: \"5764196\", skillLevel: \"Easy\", cookingTime: 3600})                 |\n",
      "| (:Recipe {name: \"Mac â€™nâ€™ cheese sliders\", preparationTime: 1500, description: \"Feed a crowd at a party or buffet with these American-themed canapÃ©s of crispy squares of macaroni cheese, sandwiched in mini bread rolls\", id: \"5503026\", skillLevel: \"Easy\", cookingTime: 3600})                                                |\n",
      "| (:Recipe {name: \"Naan, spinach & halloumi bites\", preparationTime: 1200, description: \"Wilt spinach with garlic and spices, then pile onto small, warm pieces of naan bread and top with halloumi for an attractive vegetarian canapÃ©\", id: \"4705136\", skillLevel: \"Easy\", cookingTime: 900})                                        |\n",
      "| (:Recipe {name: \"Mushroom sauce\", preparationTime: 600, description: \"Rich and full of umami savouriness, this simple creamy mushroom sauce is perfect with steak, chicken or tossed through hot pasta\", id: \"6557181\", skillLevel: \"Easy\", cookingTime: 900})                                                                        |\n",
      "| (:Recipe {name: \"Cinnamon butter rum\", preparationTime: 300, description: \"Warm up in winter with a glass of fabulously decadent cinnamon butter rum. It's the perfect tipple to enjoy at a festive gathering over the Christmas season\", id: \"6878211\", skillLevel: \"Easy\", cookingTime: 240})                                       |\n",
      "| (:Recipe {name: \"Butterfly cupcakes\", preparationTime: 7200, description: \"These pretty cupcakes are perfect for a special occasion. The flavoured syrup help the cakes stay moist, so you can make them a day ahead and decorate the next day\", id: \"5795111\", skillLevel: \"More effort\", cookingTime: 1500})                        |\n",
      "| (:Recipe {name: \"Waffles\", preparationTime: 900, description: \"Easy homemade waffles to make in your waffle maker. Serve with fruit, syrup and sauces, or try mixing it up with savoury toppings for dinner with a difference\", id: \"5790771\", skillLevel: \"Easy\", cookingTime: 1800})                                                |\n",
      "| (:Recipe {name: \"Cheese sauce\", preparationTime: 300, description: \"This classic, storecupboard white sauce is loaded with strong cheddar cheese – our easy recipe is ready in 15 minutes. Use to make macaroni or cauliflower cheese\", id: \"6557126\", skillLevel: \"Easy\", cookingTime: 600})                                         |\n",
      "| (:Recipe {name: \"Chocolate peppermint mini rolls\", preparationTime: 2700, description: \"If you're out to impress at a coffee morning, try these easy chocolate mini rolls. The buttercream contains peppermint extract for a real flavour punch\", id: \"6725831\", skillLevel: \"Easy\", cookingTime: 1200})                              |\n",
      "| (:Recipe {name: \"Spice & vanilla jumbles\", preparationTime: 3600, description: \"These classic English biscuits are baked to golden brown perfection and flavoured with vanilla and fragrant mixed spices. Try a Tudor snack with your cuppa\", id: \"6135766\", skillLevel: \"More effort\", cookingTime: 1800})                           |\n",
      "| (:Recipe {name: \"Double chocolate Easter egg cheesecake\", preparationTime: 1200, description: \"What's better than a chocolate cheesecake? A double chocolate Easter egg cheesecake with a crunchy bourbon biscuit base and topped with creme eggs\", id: \"5722616\", skillLevel: \"More effort\", cookingTime: 2400})                     |\n",
      "| (:Recipe {name: \"Gingerbread people\", preparationTime: 2700, description: \"Make decorating these adorable gingerbread people even easier (and less messy!) with tubes of shop-bought icing and sweets. Get the kids involved too\", id: \"6878866\", skillLevel: \"Easy\", cookingTime: 900})                                              |\n",
      "| (:Recipe {name: \"IPA treacle tart\", preparationTime: 2700, description: \"Add a little grapefruit zest to bring out the vibrant hop bitterness in this fabulous treacle tart made with pale ale. Scatter over honeycomb shards to serve\", id: \"6826931\", skillLevel: \"Easy\", cookingTime: 5700})                                       |\n",
      "| (:Recipe {name: \"American pancakes\", preparationTime: 1500, description: \"Easy, American-style, fluffy pancakes are great for feeding a crowd at breakfast or brunch. Top with something sweet like fruit, jam or syrup, or rashers of crispy bacon.\", id: \"6557051\", skillLevel: \"Easy\", cookingTime: 1800})                         |\n",
      "| (:Recipe {name: \"Christmas spice buttercream\", preparationTime: 300, description: \"Take your Christmas cupcakes to the next level with a frosting made using our festive spice. Perfect for adding seasonal cheer to your standard bakes\", id: \"7020921\", skillLevel: \"Easy\", cookingTime: 0})                                        |\n",
      "| (:Recipe {name: \"Cheese & herb waffles\", preparationTime: 1200, description: \"A savoury take on the classic fluffy waffle. Chives and cheddar are perfect partners in this really easy recipe. Serve with wilted spinach and a fried egg for a tasty brunch\", id: \"5790786\", skillLevel: \"Easy\", cookingTime: 1800})                  |\n",
      "| (:Recipe {name: \"Stollen babka wreath\", preparationTime: 2700, description: \"Combine marzipan, mixed fruit and nuts in our gorgeous Christmas centrepiece. Launch our handy step-by-step guide for the foolproof way to create this stunning stollen babka wreath\", id: \"8816591\", skillLevel: \"More effort\", cookingTime: 2700})     |\n",
      "| (:Recipe {name: \"Stir-fried festive cabbage\", preparationTime: 600, description: \"Try this festive red cabbage with cranberry sauce, red wine and orange as a side dish for Christmas dinner. The flavours are as vivid as the colours\", id: \"6878501\", skillLevel: \"Easy\", cookingTime: 600})                                        |\n",
      "| (:Recipe {name: \"Lemon curd\", preparationTime: 600, description: \"There’s nothing quite like a simple, zesty, homemade lemon curd. Perfect on toast, scones, hot buttered crumpets or rippled through ice cream\", id: \"6278656\", skillLevel: \"Easy\", cookingTime: 900})                                                               |\n",
      "| (:Recipe {name: \"Naan bread\", preparationTime: 1200, description: \"Make your own Indian flatbreads at home and you'll never go back to buying them. Delicious eaten warm, these naans are ideal served as a side dish to your favourite curry recipe\", id: \"6557106\", skillLevel: \"More effort\", cookingTime: 2100})                  |\n",
      "| (:Recipe {name: \"Honey & spice cookies\", preparationTime: 1800, description: \"More than just gingerbread, these Christmas cookies have our special festive spice mix and are dipped in dark chocolate. Get the kids involved in baking them\", id: \"7020911\", skillLevel: \"Easy\", cookingTime: 720})                                   |\n",
      "| (:Recipe {name: \"Millionaire's shortbread\", preparationTime: 900, description: \"Get the right balance of biscuit, caramel and chocolate to bake the perfect millionaire's shortbread. Enjoy with your afternoon tea or coffee\", id: \"7039431\", skillLevel: \"Easy\", cookingTime: 3600})                                                |\n",
      "| (:Recipe {name: \"Basic omelette recipe\", preparationTime: 300, description: \"Master the omelette with our simple recipe then add the filling of your choice – grated cheese, ham, fresh herbs, mushrooms and smoked salmon are favourites\", id: \"6787041\", skillLevel: \"Easy\", cookingTime: 300})                                     |\n",
      "| (:Recipe {name: \"Fairy cakes\", preparationTime: 1500, description: \"Perfect for a bake sale, kid's party or sweet afternoon snack, these iced cupcakes are the simplest sponges around and can be decorated as you like\", id: \"6557101\", skillLevel: \"Easy\", cookingTime: 720})                                                       |\n",
      "| (:Recipe {name: \"Turmeric pancakes\", preparationTime: 600, description: \"Ground turmeric adds a splash of all-natural colour to this easy pancake recipe - serve with sliced fresh fruit, a dollop of lemon curd and some stem ginger for extra spice.\", id: \"6440921\", skillLevel: \"Easy\", cookingTime: 1200})                       |\n",
      "| (:Recipe {name: \"Bread sauce\", preparationTime: 600, description: \"A Christmas dinner staple. Made with freshly grated nutmeg and lashings of double cream, this is the ultimate bread sauce to pair with your roast dinner\", id: \"6156646\", skillLevel: \"Easy\", cookingTime: 1500})                                                  |\n",
      "| (:Recipe {name: \"Pecan pie rolls\", preparationTime: 1200, description: \"Can’t decide between cinnamon rolls and a pecan pie? Why not have both in one bite! This spiced bake is delicious served warm with a drizzle of icing\", id: \"6200916\", skillLevel: \"More effort\", cookingTime: 2100})                                         |\n",
      "| (:Recipe {name: \"Apple rose tart\", preparationTime: 3600, description: \"An elegant apple and marzipan dessert with a pretty floral design that tastes as good as it looks. Serve it warm or cool, with a scoop of crÃ¨me fraÃ®che or vanilla ice cream\", id: \"5652366\", skillLevel: \"A challenge\", cookingTime: 3600})                |\n",
      "| (:Recipe {name: \"Cauliflower cheese rolls\", preparationTime: 1200, description: \"Impress guests with our creamy cauliflower cheese rolls. These easy canapÃ©s are wrapped in crunchy filo pastry and topped with sesame seeds\", id: \"8814736\", skillLevel: \"Easy\", cookingTime: 1500})                                                |\n",
      "| (:Recipe {name: \"Spinach & matcha pancakes\", preparationTime: 600, description: \"Our easy spinach pancake recipe gets an extra boost from matcha powder - top with fresh fruit or yogurt for a vibrant green breakfast or hearty weekend brunch.\", id: \"6440911\", skillLevel: \"Easy\", cookingTime: 1200})                             |\n",
      "| (:Recipe {name: \"Twix cookies\", preparationTime: 1200, description: \"Chocolatey, fudgey cookies that are amazing warm from the oven or made into ice cream sandwiches. The ultimate indulgence\", id: \"6156321\", skillLevel: \"More effort\", cookingTime: 900})                                                                         |\n",
      "| (:Recipe {name: \"Hot cross bun cheesecakes\", preparationTime: 900, description: \"A creamy dessert that tastes exactly like your favourite Easter bake - the hot cross bun. Top with orange zest, juice and a drizzle of icing for the characteristic cross\", id: \"5722576\", skillLevel: \"Easy\", cookingTime: 2400})                   |\n",
      "| (:Recipe {name: \"Oreo egg cheesecake brownies\", preparationTime: 2700, description: \"These Oreo-filled cheesecake brownies are the ultimate indulgence. Bake this rich, squidgy chocolate traybake for an Easter sharing treat\", id: \"6515231\", skillLevel: \"Easy\", cookingTime: 2400})                                               |\n",
      "| (:Recipe {name: \"Honey-roasted parsnips\", preparationTime: 300, description: \"These golden, honeyed parsnips have just the right mix of earthiness and sweet glaze to make a moreish Christmas side dish, and they’re quick to prepare\", id: \"6187916\", skillLevel: \"Easy\", cookingTime: 3000})                                       |\n",
      "| (:Recipe {name: \"Black forest arctic roll\", preparationTime: 2100, description: \"Make the ultimate retro pudding mash-up, a combination of arctic roll meets black forest gateau, complete with chocolate sponge and an ice cream centre\", id: \"6827651\", skillLevel: \"More effort\", cookingTime: 1080})                              |\n",
      "| (:Recipe {name: \"Rainbow pancakes\", preparationTime: 600, description: \"Kids and adults alike will love these super colourful pancakes, perfect for a celebratory breakfast or brunch. Stack them up and top with whipped cream, maple syrup and mixed berries.\", id: \"6440936\", skillLevel: \"Easy\", cookingTime: 1200})              |\n",
      "| (:Recipe {name: \"Beetroot pancakes\", preparationTime: 600, description: \"Whizz beetroot into an easy batter to make these bright purple pancakes, then top with a warm fruit compote for a hearty weekend brunch. You can use this recipe to make blini-style canapÃ©s, too.\", id: \"6440926\", skillLevel: \"Easy\", cookingTime: 1200}) |\n",
      "| (:Recipe {name: \"Fast truffle fudge\", preparationTime: 300, description: \"Make our truffle fudge in mere minutes and box it up with pretty tissue paper for the perfect homemade gift. It uses just four ingredients and very little effort\", id: \"7016141\", skillLevel: \"Easy\", cookingTime: 120})                                   |\n",
      "| (:Recipe {name: \"Juniper & apple red cabbage\", preparationTime: 1200, description: \"Try this twist on braised cabbage for Christmas Day, with juniper berries, orange zest, red onion and red apple for festive colour and flavour\", id: \"6884741\", skillLevel: \"Easy\", cookingTime: 3600})                                           |\n",
      "| (:Recipe {name: \"PiÃ±a colada tart\", preparationTime: 2700, description: \"Take pineapple, coconut and rum flavours from a classic cocktail into a stunning summer dessert with this piÃ±a colada tart with maraschino cherries on top\", id: \"6642071\", skillLevel: \"More effort\", cookingTime: 3300})                                 |\n",
      "| (:Recipe {name: \"Red velvet pancakes\", preparationTime: 600, description: \"New York diner-style chocolate pancakes meet red velvet cake in this ingenious brunch dish, stacked up with a sweet maple cream cheese frosting, chocolate chips and fresh blueberries.\", id: \"6440941\", skillLevel: \"Easy\", cookingTime: 1200})           |\n",
      "| (:Recipe {name: \"Quesadilla pancakes\", preparationTime: 1200, description: \"Give pancakes a Mexican theme with this savoury red pepper and cheese filling - serve with spicy beans and avocado for Shrove Tuesday or all year round! \", id: \"4883861\", skillLevel: \"Easy\", cookingTime: 600})                                         |\n",
      "| (:Recipe {name: \"Easy jam tarts\", preparationTime: 1500, description: \"Bake our easy jam tarts and they'll instantly become a family favourite – plus, you can make them in less than half-an-hour if you use ready-made pastry\", id: \"7313426\", skillLevel: \"Easy\", cookingTime: 1080})                                              |\n",
      "| (:Recipe {name: \"Spiced lemon & ginger biscuits\", preparationTime: 1200, description: \"Bake these grown-up gingerbread biscuits, spiced with black pepper and stem ginger. They're perfect after dinner with an iced shot of limoncello or a hot toddy\", id: \"8817101\", skillLevel: \"Easy\", cookingTime: 900})                        |\n",
      "| (:Recipe {name: \"Nutty baklava\", preparationTime: 2400, description: \"Our version of this syrup-soaked pastry is gently spiced with cinnamon and cardamom, and has a blend of pecans, pistachios and walnuts\", id: \"6088221\", skillLevel: \"More effort\", cookingTime: 3900})                                                          |\n",
      "| (:Recipe {name: \"Meringue nest cheesecake with mini eggs\", preparationTime: 600, description: \"The easiest Easter nest you'll ever make. This no-bake cheesecake comes complete with mini eggs and the traditional chenille chicks\", id: \"5722626\", skillLevel: \"Easy\", cookingTime: 300})                                            |\n",
      "| (:Recipe {name: \"Sourdough bread sauce\", preparationTime: 300, description: \"Try a sourdough twist on classic bread sauce. Serve with your Sunday roast or to impress friends and family at Christmas. Can be made up to two days ahead\", id: \"6885026\", skillLevel: \"Easy\", cookingTime: 1500})                                      |\n",
      "| (:Recipe {name: \"Chelsea buns\", preparationTime: 1500, description: \"This classic, easy Chelsea bun recipe is the perfect sweet bake to enjoy with your afternoon cup of tea. Who could resist a fruit-filled bun, hot from the oven?\", id: \"6557031\", skillLevel: \"Easy\", cookingTime: 1200})                                        |\n",
      "| (:Recipe {name: \"Tropical cheesecake bars\", preparationTime: 1800, description: \"Fresh mango, a crunchy biscuit base and smooth cream cheese filling make a light summer dessert everyone will love. Top with passion fruit, pineapple and creamy lemon curd\", id: \"5991031\", skillLevel: \"More effort\", cookingTime: 3600})          |\n",
      "+---------------------------------------------------------------------------------------------------------------------------------------------------------------------------------------------------------------------------------------------------------------------------------------------------------------------------------------+\n",
      "\n",
      "53 rows\n",
      "ready to start consuming query after 122 ms, results consumed after another 53 ms\n"
     ]
    }
   ],
   "source": [
    "%%neo \n",
    "MATCH (r:Recipe)\n",
    "WHERE (r)-[:CONTAINS_INGREDIENT]->(:Ingredient {name: \"butter\"}) \n",
    "AND (:Author {name: \"Miriam Nice\"})-[:WROTE]->(r) \n",
    "AND (r)-[:DIET_TYPE]->(:DietType {name: \"Vegetarian\"})\n",
    "RETURN r"
   ]
  },
  {
   "cell_type": "code",
   "execution_count": 38,
   "id": "e35f9059-531b-45f1-8965-e2732f046f5a",
   "metadata": {},
   "outputs": [],
   "source": [
    "# Returns 20 of the id properties of the CONTAINS_INGREDIENT relationship"
   ]
  },
  {
   "cell_type": "code",
   "execution_count": 39,
   "id": "5b192cb5-e91c-49f9-a99b-1617cc09310f",
   "metadata": {},
   "outputs": [
    {
     "name": "stdout",
     "output_type": "stream",
     "text": [
      "+-------+\n",
      "| ID(r) |\n",
      "+-------+\n",
      "| 0     |\n",
      "| 1     |\n",
      "| 2     |\n",
      "| 3     |\n",
      "| 4     |\n",
      "| 5     |\n",
      "| 6     |\n",
      "| 7     |\n",
      "| 8     |\n",
      "| 9     |\n",
      "| 10    |\n",
      "| 11    |\n",
      "| 12    |\n",
      "| 13    |\n",
      "| 14    |\n",
      "| 15    |\n",
      "| 16    |\n",
      "| 17    |\n",
      "| 18    |\n",
      "| 19    |\n",
      "+-------+\n",
      "\n",
      "20 rows\n",
      "ready to start consuming query after 34 ms, results consumed after another 2 ms\n"
     ]
    }
   ],
   "source": [
    "%%neo \n",
    "MATCH ()-[r:CONTAINS_INGREDIENT]->()\n",
    "RETURN ID(r)\n",
    "LIMIT 20"
   ]
  },
  {
   "cell_type": "code",
   "execution_count": 40,
   "id": "85f21747-46c7-45e5-a28a-25a3bcaccfa2",
   "metadata": {},
   "outputs": [],
   "source": [
    "# Returns 10 recipes with the least cooking time"
   ]
  },
  {
   "cell_type": "code",
   "execution_count": 41,
   "id": "c31aecb6-083d-4a7f-b926-5dba8a8fdb9f",
   "metadata": {},
   "outputs": [
    {
     "name": "stdout",
     "output_type": "stream",
     "text": [
      "+---------------------------------------------------------------+\n",
      "| r.name                                        | r.cookingTime |\n",
      "+---------------------------------------------------------------+\n",
      "| \"Summer vegetable bowl\"                       | 0             |\n",
      "| \"Porter & champagne\"                          | 0             |\n",
      "| \"Fresh mint sauce\"                            | 0             |\n",
      "| \"Kiwi fruit smoothie\"                         | 0             |\n",
      "| \"Tomato & mozzarella couscous salad\"          | 0             |\n",
      "| \"Citrus peach cooler\"                         | 0             |\n",
      "| \"Lincolnshire sausage & lentil simmer\"        | 0             |\n",
      "| \"Chicken, goat's cheese & cherry tomato bake\" | 0             |\n",
      "| \"Thai carrot & radish salad\"                  | 0             |\n",
      "| \"Damson jelly\"                                | 0             |\n",
      "+---------------------------------------------------------------+\n",
      "\n",
      "10 rows\n",
      "ready to start consuming query after 14 ms, results consumed after another 15 ms\n"
     ]
    }
   ],
   "source": [
    "%%neo \n",
    "MATCH (r:Recipe)\n",
    "RETURN r.name, r.cookingTime\n",
    "ORDER BY r.cookingTime ASC\n",
    "LIMIT 10"
   ]
  },
  {
   "cell_type": "code",
   "execution_count": 42,
   "id": "029ac0c2-7362-4b95-8d9a-0ccbc4bcdd0d",
   "metadata": {},
   "outputs": [],
   "source": [
    "##### begin extra credit"
   ]
  },
  {
   "cell_type": "code",
   "execution_count": 43,
   "id": "ab3ad11b-672d-4b1e-b59e-83c3cbc6f4e3",
   "metadata": {},
   "outputs": [],
   "source": [
    "# make a new test node with the same properties as an existing node for each label"
   ]
  },
  {
   "cell_type": "code",
   "execution_count": 44,
   "id": "7b2f63a6-f516-4762-9c10-9e8398d2cfbd",
   "metadata": {},
   "outputs": [
    {
     "name": "stdout",
     "output_type": "stream",
     "text": [
      "0 rows\n",
      "ready to start consuming query after 538 ms, results consumed after another 0 ms\n",
      "Added 16075 nodes, Set 74245 properties, Added 16075 labels\n"
     ]
    }
   ],
   "source": [
    "%%neo \n",
    "MATCH (n:Author|Recipe|Ingredient|DietType|Collection)\n",
    "CREATE (newNode:Test)\n",
    "SET newNode = n"
   ]
  },
  {
   "cell_type": "code",
   "execution_count": 45,
   "id": "8e7ae6a5-8de3-40ba-acee-039b77d30995",
   "metadata": {},
   "outputs": [],
   "source": [
    "# make a new relationship with the same properties as an existing relationship for each relationship in the graph"
   ]
  },
  {
   "cell_type": "code",
   "execution_count": 46,
   "id": "d8812848-6ed8-4528-b68c-fc3f7c1f779a",
   "metadata": {},
   "outputs": [
    {
     "name": "stdout",
     "output_type": "stream",
     "text": [
      "0 rows\n",
      "ready to start consuming query after 2213 ms, results consumed after another 0 ms\n",
      "Added 659520 nodes, Created 329760 relationships\n"
     ]
    }
   ],
   "source": [
    "%%neo \n",
    "MATCH ()-[r:COLLECTION|CONTAINS_INGREDIENT|DIET_TYPE|WROTE]-()\n",
    "CREATE ()-[newRel:NewRelType]->()\n",
    "SET newRel = r"
   ]
  },
  {
   "cell_type": "code",
   "execution_count": 47,
   "id": "4bde0dd0-35df-494d-866e-041b6b1e6da2",
   "metadata": {},
   "outputs": [],
   "source": [
    "# update the name of the couscous node to sugar"
   ]
  },
  {
   "cell_type": "code",
   "execution_count": 77,
   "id": "556050df-e7f7-4ee1-b774-172edcbac061",
   "metadata": {},
   "outputs": [
    {
     "name": "stdout",
     "output_type": "stream",
     "text": [
      "0 rows\n",
      "ready to start consuming query after 45 ms, results consumed after another 0 ms\n",
      "Set 2 properties\n"
     ]
    }
   ],
   "source": [
    "%%neo \n",
    "MATCH (i:Ingredient)\n",
    "WHERE i.name = 'siracha'\n",
    "SET i.name = 'siracha'"
   ]
  },
  {
   "cell_type": "code",
   "execution_count": 49,
   "id": "2eb30127-3d2c-4431-998e-42b668f1620d",
   "metadata": {},
   "outputs": [],
   "source": [
    "# update the id property of a has ingredient relationship from 21 to 42"
   ]
  },
  {
   "cell_type": "code",
   "execution_count": 50,
   "id": "b02fe115-01d1-4b87-b8b2-f68b7bd20627",
   "metadata": {},
   "outputs": [
    {
     "name": "stdout",
     "output_type": "stream",
     "text": [
      "\u001b[31mInvalid input '=': expected \".\" (line 3, column 11 (offset: 58))\n",
      "\"SET ID(r) = 42\"\n",
      "           ^\u001b[m\n"
     ]
    }
   ],
   "source": [
    "%%neo \n",
    "MATCH ()-[r:HAS_INGREDIENT]-()\n",
    "WHERE ID(r) = 21\n",
    "SET ID(r) = 42"
   ]
  },
  {
   "cell_type": "code",
   "execution_count": 51,
   "id": "43c1c28b-ce13-4453-8912-f9c779cce1f0",
   "metadata": {},
   "outputs": [],
   "source": [
    "# adds a seafood label to the node with the name \"Classic chunky fish cakes\""
   ]
  },
  {
   "cell_type": "code",
   "execution_count": 52,
   "id": "c966c51a-81ca-4238-b40e-5fd91c5393a7",
   "metadata": {},
   "outputs": [
    {
     "name": "stdout",
     "output_type": "stream",
     "text": [
      "0 rows\n",
      "ready to start consuming query after 192 ms, results consumed after another 0 ms\n",
      "Added 2 labels\n"
     ]
    }
   ],
   "source": [
    "%%neo \n",
    "MATCH (n)\n",
    "WHERE n.name = \"Classic chunky fish cakes\"\n",
    "SET n: Seafood"
   ]
  },
  {
   "cell_type": "code",
   "execution_count": 53,
   "id": "4eb4288b-d319-45f3-8f9b-bfde600c6a97",
   "metadata": {},
   "outputs": [],
   "source": [
    "# updates the relationship type from CONTAINS_INGREDIENT to USES_INGREDIENT"
   ]
  },
  {
   "cell_type": "code",
   "execution_count": 66,
   "id": "24ec6c84-4579-4c42-8a5b-0a09747f7ba1",
   "metadata": {},
   "outputs": [
    {
     "name": "stdout",
     "output_type": "stream",
     "text": [
      "\u001b[31mType mismatch: expected Map, Node or Relationship but was List<Path> (line 3, column 14 (offset: 196))\n",
      "\"SET newRel = (n1)-[:CONTAINS_INGREDIENT]->(n2)\"\n",
      "              ^\u001b[m\n"
     ]
    }
   ],
   "source": [
    "%%neo \n",
    "MATCH (n1:Recipe {name: \"Baked nectarines & raspberries with almonds & honey\"})-[:CONTAINS_INGREDIENT]->(n2:Ingredient {name: \"nectarine\"})\n",
    "CREATE (n1)-[newRel:USES_INGREDIENT]->(n2)\n",
    "SET newRel = (n1)-[:CONTAINS_INGREDIENT]->(n2)\n",
    "DELETE (n1)-[:CONTAINS_INGREDIENT]->(n2)"
   ]
  },
  {
   "cell_type": "code",
   "execution_count": 55,
   "id": "62ac6ca7-70b8-4159-a68c-62015e374b99",
   "metadata": {},
   "outputs": [],
   "source": [
    "# deletes any HAS_INGREDIENT relationships"
   ]
  },
  {
   "cell_type": "code",
   "execution_count": 57,
   "id": "1f65ae99-4a9f-4a5f-bb81-c6f403beb8f4",
   "metadata": {},
   "outputs": [
    {
     "name": "stdout",
     "output_type": "stream",
     "text": [
      "0 rows\n",
      "ready to start consuming query after 43 ms, results consumed after another 0 ms\n"
     ]
    }
   ],
   "source": [
    "%%neo \n",
    "MATCH ()-[r:HAS_INGREDIENT]->()\n",
    "DELETE r"
   ]
  },
  {
   "cell_type": "code",
   "execution_count": 58,
   "id": "428e26be-572c-4bde-abfa-4bcc9e806048",
   "metadata": {},
   "outputs": [],
   "source": [
    "# deletes the tomato ingredient node"
   ]
  },
  {
   "cell_type": "code",
   "execution_count": 83,
   "id": "68b5194d-097a-412c-8a9d-c6578b880a33",
   "metadata": {},
   "outputs": [
    {
     "name": "stdout",
     "output_type": "stream",
     "text": [
      "\u001b[31mCannot delete node<12089>, because it still has relationships. To delete this node, you must first delete its relationships.\u001b[m\n"
     ]
    }
   ],
   "source": [
    "%%neo \n",
    "MATCH (n)\n",
    "WHERE ID(n) = 12089\n",
    "DELETE n"
   ]
  },
  {
   "cell_type": "code",
   "execution_count": 60,
   "id": "2581ea8f-5704-4a11-85ed-e6f59c71a4ec",
   "metadata": {},
   "outputs": [],
   "source": [
    "# sets a unique constraint on the name property of ingredient nodes"
   ]
  },
  {
   "cell_type": "code",
   "execution_count": 68,
   "id": "810d55f6-0b1e-480c-a6a1-2e35a78eccd1",
   "metadata": {},
   "outputs": [
    {
     "name": "stdout",
     "output_type": "stream",
     "text": [
      "\u001b[31mUnable to create Constraint( name='Unique_node', type='UNIQUENESS', schema=(:Ingredient {name}) ):\n",
      "Both Node(11937) and Node(12089) have the label `Ingredient` and property `name` = 'sugar'\u001b[m\n"
     ]
    }
   ],
   "source": [
    "%%neo \n",
    "CREATE CONSTRAINT Unique_node\n",
    "FOR (i:Ingredient) \n",
    "REQUIRE i.name IS UNIQUE"
   ]
  },
  {
   "cell_type": "code",
   "execution_count": 62,
   "id": "67b4cd29-1c2d-42b3-b50e-b9b0c86f6521",
   "metadata": {},
   "outputs": [],
   "source": [
    "# sets a unique constraint on the id property of the WROTE relationships"
   ]
  },
  {
   "cell_type": "code",
   "execution_count": 89,
   "id": "c63afb6f-740c-45b3-b163-eb6d481a35af",
   "metadata": {},
   "outputs": [
    {
     "name": "stdout",
     "output_type": "stream",
     "text": [
      "0 rows\n",
      "ready to start consuming query after 46 ms, results consumed after another 0 ms\n",
      "Added 1 constraints\n"
     ]
    }
   ],
   "source": [
    "%%neo \n",
    "CREATE CONSTRAINT Unique_rel2\n",
    "FOR ()-[r:WROTE]-()\n",
    "REQUIRE r.id IS UNIQUE"
   ]
  }
 ],
 "metadata": {
  "environment": {
   "kernel": "python3",
   "name": "common-cpu.m110",
   "type": "gcloud",
   "uri": "gcr.io/deeplearning-platform-release/base-cpu:m110"
  },
  "kernelspec": {
   "display_name": "Python 3",
   "language": "python",
   "name": "python3"
  },
  "language_info": {
   "codemirror_mode": {
    "name": "ipython",
    "version": 3
   },
   "file_extension": ".py",
   "mimetype": "text/x-python",
   "name": "python",
   "nbconvert_exporter": "python",
   "pygments_lexer": "ipython3",
   "version": "3.10.12"
  }
 },
 "nbformat": 4,
 "nbformat_minor": 5
}
