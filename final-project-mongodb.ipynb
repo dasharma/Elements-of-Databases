{
 "cells": [
  {
   "cell_type": "code",
   "execution_count": 11,
   "id": "9d28c7b8-d569-40e3-b824-c19553721fb0",
   "metadata": {},
   "outputs": [],
   "source": [
    "HOST = \"cluster0.a9rcadc.mongodb.net\"\n",
    "USER = \"dsgirl826\"\n",
    "PW=\"mystery\"\n",
    "DB=\"final_project\""
   ]
  },
  {
   "cell_type": "code",
   "execution_count": 12,
   "id": "790a406b-8b5f-4337-b35f-2ba22bed0f03",
   "metadata": {},
   "outputs": [],
   "source": [
    "from pymongo import MongoClient\n",
    "\n",
    "def connect():\n",
    "\n",
    "    url = \"mongodb+srv://{}:{}@{}\".format(USER, PW, HOST)\n",
    "    connection = MongoClient(url)\n",
    "    return connection[DB]"
   ]
  },
  {
   "cell_type": "code",
   "execution_count": 13,
   "id": "aa71d41b-2a3e-442b-9db0-773121b4d514",
   "metadata": {},
   "outputs": [
    {
     "name": "stdout",
     "output_type": "stream",
     "text": [
      "Database(MongoClient(host=['ac-2mdgvaq-shard-00-02.a9rcadc.mongodb.net:27017', 'ac-2mdgvaq-shard-00-01.a9rcadc.mongodb.net:27017', 'ac-2mdgvaq-shard-00-00.a9rcadc.mongodb.net:27017'], document_class=dict, tz_aware=False, connect=True, authsource='admin', replicaset='atlas-wtq44c-shard-0', tls=True), 'final_project')\n"
     ]
    }
   ],
   "source": [
    "connection = connect()\n",
    "\n",
    "print(connection)"
   ]
  },
  {
   "cell_type": "code",
   "execution_count": 14,
   "id": "839d5e48-0261-4cfb-8098-8e59fafb6978",
   "metadata": {},
   "outputs": [
    {
     "name": "stdout",
     "output_type": "stream",
     "text": [
      "tck_id set as a unique (primary) key\n"
     ]
    }
   ],
   "source": [
    "try:\n",
    "    connection = connect()\n",
    "    collection = connection[\"ticketing\"]\n",
    "    collection.create_index(\"tck_id\", unique=True)\n",
    "    print(\"tck_id set as a unique (primary) key\")\n",
    "except Exception as e:\n",
    "    print(\"Error setting unique (primary) key:\", e)"
   ]
  },
  {
   "cell_type": "code",
   "execution_count": 15,
   "id": "68a9e268-7e5c-4a85-a7c1-94bf2ddc5443",
   "metadata": {},
   "outputs": [
    {
     "name": "stdout",
     "output_type": "stream",
     "text": [
      "Wrote 100 documents into collection\n"
     ]
    }
   ],
   "source": [
    "from pymongo import MongoClient\n",
    "from faker import Faker\n",
    "from faker_airtravel import AirTravelProvider\n",
    "import random\n",
    "from datetime import datetime, timedelta\n",
    "\n",
    "\n",
    "fake = Faker()\n",
    "fake.add_provider(AirTravelProvider)\n",
    "\n",
    "curr_codes = [\"BIF\", \"BSD\", \"OMR\", \"GBP\", \"XAF\", \"JMD\", \"NPR\", \"GYD\", \"SYP\", \"LYD\", \"WST\", \"CDF\", \"MVR\", \"DJF\", \"BYR\", \"ETB\", \"EUR\", \"HNL\", \"LTL\", \"THB\", \"GHS\", \"COP\", \"CVE\", \"NOK\", \"SVC\", \"ARS\", \"INR\", \"CNY\", \"CUC\", \"GTQ\"]\n",
    "inserts = []\n",
    "flight_nums = []\n",
    "for i in range (1, 101):\n",
    "    random_year = random.randrange(1914, 2024)\n",
    "    random_month = random.randrange(1, 12)\n",
    "    random_day = random.randrange(1, 29)\n",
    "    random_hour = random.randrange(1, 24)\n",
    "    random_minute = random.randrange(1, 60)\n",
    "    random_second = random.randrange(1, 60)\n",
    "    random_date = datetime(random_year, random_month, random_day, random_hour, random_minute, random_second)\n",
    "    random_flight_hours = random.randrange(1, 25)\n",
    "    random_flight_minutes = random.randrange(1, 60)\n",
    "    random_flight_seconds = random.randrange(1, 60)\n",
    "\n",
    "    dep_date = random_date.replace(hour=0, minute=0, second=0)\n",
    "    arr_date = (random_date + timedelta(hours=random_flight_hours, minutes=random_flight_minutes, seconds=random_flight_seconds)).replace(hour=0, minute=0, second=0, microsecond=0)\n",
    "    dep_time = random_date.replace(year=1, month=1, day=1)\n",
    "    arr_time = (random_date + timedelta(hours=random_flight_hours, minutes=random_flight_minutes, seconds=random_flight_seconds)).replace(year=1, month=1, day=1)\n",
    "    \n",
    "    randomLetter = chr(random.randint(ord('A'), ord('Z')))\n",
    "    randomLetter2 = chr(random.randint(ord('A'), ord('Z')))\n",
    "    flight_nm = randomLetter + randomLetter2 + str(random.randrange(1000, 9999))\n",
    "    flight_nums.append(flight_nm)\n",
    "    while flight_nm in flight_nums:\n",
    "        randomLetter = chr(random.randint(ord('A'), ord('Z')))\n",
    "        randomLetter2 = chr(random.randint(ord('A'), ord('Z')))\n",
    "        flight_nm = randomLetter + randomLetter2 + str(random.randrange(1000, 9999))\n",
    "\n",
    "    flight = fake.flight()\n",
    "    rec = {\n",
    "            \"tck_id\": i,\n",
    "            \"cust_id\": random.randrange(1, 51),\n",
    "            \"airline\": flight['airline'],\n",
    "            \"flight_nm\": flight_nm,\n",
    "            \"dep_airport\": flight['origin']['airport'],\n",
    "            \"arr_airport\": flight['destination']['airport'],\n",
    "            \"dep_date\": dep_date,\n",
    "            \"dep_time\": dep_time,\n",
    "            \"arr_date\": arr_date,\n",
    "            \"arr_time\": arr_time,\n",
    "            \"stops\": flight['stops'],\n",
    "            \"tik_amt\": flight['price'],\n",
    "            \"curr_code\": random.choice(curr_codes)\n",
    "        }\n",
    "    inserts.append(rec)\n",
    "\n",
    "try:\n",
    "    connection = connect()\n",
    "    collection = connection[\"ticketing\"]\n",
    "    collection.insert_many(inserts)\n",
    "    print(\"Wrote 100 documents into collection\")\n",
    "except Exception as e:\n",
    "    print(\"Error occurred while writing documents:\", e)"
   ]
  },
  {
   "cell_type": "code",
   "execution_count": null,
   "id": "61e70092-f1fc-48d6-bd48-7d813779aa11",
   "metadata": {},
   "outputs": [],
   "source": []
  }
 ],
 "metadata": {
  "environment": {
   "kernel": "python3",
   "name": "common-cpu.m110",
   "type": "gcloud",
   "uri": "gcr.io/deeplearning-platform-release/base-cpu:m110"
  },
  "kernelspec": {
   "display_name": "Python 3",
   "language": "python",
   "name": "python3"
  },
  "language_info": {
   "codemirror_mode": {
    "name": "ipython",
    "version": 3
   },
   "file_extension": ".py",
   "mimetype": "text/x-python",
   "name": "python",
   "nbconvert_exporter": "python",
   "pygments_lexer": "ipython3",
   "version": "3.10.12"
  }
 },
 "nbformat": 4,
 "nbformat_minor": 5
}
