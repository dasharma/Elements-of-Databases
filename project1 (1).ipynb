{
 "cells": [
  {
   "cell_type": "code",
   "execution_count": 30,
   "id": "3679d271-b70f-45bc-aac2-0149c2adfe4a",
   "metadata": {},
   "outputs": [],
   "source": [
    "!mysql < sakila-database.sql"
   ]
  },
  {
   "cell_type": "code",
   "execution_count": 3,
   "id": "652c9a35-3398-400c-a24a-181ace241eb8",
   "metadata": {},
   "outputs": [],
   "source": [
    "!mysql < sakila-data.sql"
   ]
  },
  {
   "cell_type": "code",
   "execution_count": 5,
   "id": "91aca9e4-5160-44c9-8e0d-44d9ab6d92bb",
   "metadata": {},
   "outputs": [
    {
     "name": "stdout",
     "output_type": "stream",
     "text": [
      "+------------+\n",
      "| actor_rows |\n",
      "+------------+\n",
      "|        200 |\n",
      "+------------+\n"
     ]
    }
   ],
   "source": [
    "!mysql sakila -e \"select count(*) as actor_rows FROM actor\" "
   ]
  },
  {
   "cell_type": "code",
   "execution_count": 6,
   "id": "17e6ca34-97f9-4ece-befc-d3f16ef967b7",
   "metadata": {},
   "outputs": [
    {
     "name": "stdout",
     "output_type": "stream",
     "text": [
      "+--------------+\n",
      "| address_rows |\n",
      "+--------------+\n",
      "|          603 |\n",
      "+--------------+\n"
     ]
    }
   ],
   "source": [
    "!mysql sakila -e \"select count(*) as address_rows FROM address\" "
   ]
  },
  {
   "cell_type": "code",
   "execution_count": 7,
   "id": "e1aedc28-fc1f-4ba1-927b-547e80f2da94",
   "metadata": {},
   "outputs": [
    {
     "name": "stdout",
     "output_type": "stream",
     "text": [
      "+-----------+\n",
      "| city_rows |\n",
      "+-----------+\n",
      "|       600 |\n",
      "+-----------+\n"
     ]
    }
   ],
   "source": [
    "!mysql sakila -e \"select count(*) as city_rows FROM city\" "
   ]
  },
  {
   "cell_type": "code",
   "execution_count": 8,
   "id": "fb223275-2a71-4663-8806-031bf70cee77",
   "metadata": {},
   "outputs": [
    {
     "name": "stdout",
     "output_type": "stream",
     "text": [
      "+--------------+\n",
      "| country_rows |\n",
      "+--------------+\n",
      "|          109 |\n",
      "+--------------+\n"
     ]
    }
   ],
   "source": [
    "!mysql sakila -e \"select count(*) as country_rows FROM country\" "
   ]
  },
  {
   "cell_type": "code",
   "execution_count": 9,
   "id": "269d74fc-a1b1-492f-a933-ce83df91ba13",
   "metadata": {},
   "outputs": [
    {
     "name": "stdout",
     "output_type": "stream",
     "text": [
      "+---------------+\n",
      "| customer_rows |\n",
      "+---------------+\n",
      "|           599 |\n",
      "+---------------+\n"
     ]
    }
   ],
   "source": [
    "!mysql sakila -e \"select count(*) as customer_rows FROM customer\" "
   ]
  },
  {
   "cell_type": "code",
   "execution_count": 24,
   "id": "0dd4e5b6-21fc-40fd-8948-b469d1160d0a",
   "metadata": {},
   "outputs": [
    {
     "name": "stdout",
     "output_type": "stream",
     "text": [
      "+----------+------------+-----------+---------------------+\n",
      "| actor_id | first_name | last_name | last_update         |\n",
      "+----------+------------+-----------+---------------------+\n",
      "|       51 | GARY       | PHOENIX   | 2006-02-15 04:34:33 |\n",
      "|       52 | CARMEN     | HUNT      | 2006-02-15 04:34:33 |\n",
      "|       53 | MENA       | TEMPLE    | 2006-02-15 04:34:33 |\n",
      "+----------+------------+-----------+---------------------+\n"
     ]
    }
   ],
   "source": [
    "!mysql sakila -e \"select * FROM actor limit 50, 3\""
   ]
  },
  {
   "cell_type": "code",
   "execution_count": 13,
   "id": "afda233b-ca3d-4d8a-91fe-653e01802dee",
   "metadata": {},
   "outputs": [
    {
     "name": "stdout",
     "output_type": "stream",
     "text": [
      "+----------+------------+--------------+---------------------+\n",
      "| actor_id | first_name | last_name    | last_update         |\n",
      "+----------+------------+--------------+---------------------+\n",
      "|        4 | JENNIFER   | DAVIS        | 2006-02-15 04:34:33 |\n",
      "|        5 | JOHNNY     | LOLLOBRIGIDA | 2006-02-15 04:34:33 |\n",
      "|        6 | BETTE      | NICHOLSON    | 2006-02-15 04:34:33 |\n",
      "|        7 | GRACE      | MOSTEL       | 2006-02-15 04:34:33 |\n",
      "|        8 | MATTHEW    | JOHANSSON    | 2006-02-15 04:34:33 |\n",
      "+----------+------------+--------------+---------------------+\n"
     ]
    }
   ],
   "source": [
    "!mysql sakila -e \"select * FROM address limit 20, 4\""
   ]
  },
  {
   "cell_type": "code",
   "execution_count": 14,
   "id": "e4a5acb2-050c-4cc4-98ab-77dcee6c8b10",
   "metadata": {},
   "outputs": [
    {
     "name": "stdout",
     "output_type": "stream",
     "text": [
      "+---------+-----------+------------+---------------------+\n",
      "| city_id | city      | country_id | last_update         |\n",
      "+---------+-----------+------------+---------------------+\n",
      "|      31 | Arak      |         46 | 2006-02-15 04:45:25 |\n",
      "|      32 | Arecibo   |         77 | 2006-02-15 04:45:25 |\n",
      "|      33 | Arlington |        103 | 2006-02-15 04:45:25 |\n",
      "|      34 | Ashdod    |         48 | 2006-02-15 04:45:25 |\n",
      "|      35 | Ashgabat  |         98 | 2006-02-15 04:45:25 |\n",
      "|      36 | Ashqelon  |         48 | 2006-02-15 04:45:25 |\n",
      "+---------+-----------+------------+---------------------+\n"
     ]
    }
   ],
   "source": [
    "!mysql sakila -e \"select * FROM city limit 30, 6\""
   ]
  },
  {
   "cell_type": "code",
   "execution_count": 15,
   "id": "ac8012a0-88b7-497e-95cd-1c4554ea90d5",
   "metadata": {},
   "outputs": [
    {
     "name": "stdout",
     "output_type": "stream",
     "text": [
      "+------------+----------------------+---------------------+\n",
      "| country_id | country              | last_update         |\n",
      "+------------+----------------------+---------------------+\n",
      "|        101 | United Arab Emirates | 2006-02-15 04:44:00 |\n",
      "|        102 | United Kingdom       | 2006-02-15 04:44:00 |\n",
      "|        103 | United States        | 2006-02-15 04:44:00 |\n",
      "|        104 | Venezuela            | 2006-02-15 04:44:00 |\n",
      "|        105 | Vietnam              | 2006-02-15 04:44:00 |\n",
      "|        106 | Virgin Islands, U.S. | 2006-02-15 04:44:00 |\n",
      "|        107 | Yemen                | 2006-02-15 04:44:00 |\n",
      "|        108 | Yugoslavia           | 2006-02-15 04:44:00 |\n",
      "|        109 | Zambia               | 2006-02-15 04:44:00 |\n",
      "+------------+----------------------+---------------------+\n"
     ]
    }
   ],
   "source": [
    "!mysql sakila -e \"select * FROM country limit 100, 10\""
   ]
  },
  {
   "cell_type": "code",
   "execution_count": 45,
   "id": "e5cab7eb-6d74-46c6-b7df-7e86f4fd6f81",
   "metadata": {},
   "outputs": [
    {
     "name": "stdout",
     "output_type": "stream",
     "text": [
      "+-------------+----------+------------+-----------+-------------------------------------+------------+--------+---------------------+---------------------+\n",
      "| customer_id | store_id | first_name | last_name | email                               | address_id | active | create_date         | last_update         |\n",
      "+-------------+----------+------------+-----------+-------------------------------------+------------+--------+---------------------+---------------------+\n",
      "|           2 |        1 | PATRICIA   | JOHNSON   | PATRICIA.JOHNSON@sakilacustomer.org |          6 |      1 | 2006-02-14 22:04:36 | 2006-02-15 04:57:20 |\n",
      "|           3 |        1 | LINDA      | WILLIAMS  | LINDA.WILLIAMS@sakilacustomer.org   |          7 |      1 | 2006-02-14 22:04:36 | 2006-02-15 04:57:20 |\n",
      "|           4 |        2 | BARBARA    | JONES     | BARBARA.JONES@sakilacustomer.org    |          8 |      1 | 2006-02-14 22:04:36 | 2006-02-15 04:57:20 |\n",
      "|           5 |        1 | ELIZABETH  | BROWN     | ELIZABETH.BROWN@sakilacustomer.org  |          9 |      1 | 2006-02-14 22:04:36 | 2006-02-15 04:57:20 |\n",
      "|           6 |        2 | JENNIFER   | DAVIS     | JENNIFER.DAVIS@sakilacustomer.org   |         10 |      1 | 2006-02-14 22:04:36 | 2006-02-15 04:57:20 |\n",
      "|           7 |        1 | MARIA      | MILLER    | MARIA.MILLER@sakilacustomer.org     |         11 |      1 | 2006-02-14 22:04:36 | 2006-02-15 04:57:20 |\n",
      "|           8 |        2 | SUSAN      | WILSON    | SUSAN.WILSON@sakilacustomer.org     |         12 |      1 | 2006-02-14 22:04:36 | 2006-02-15 04:57:20 |\n",
      "|           9 |        2 | MARGARET   | MOORE     | MARGARET.MOORE@sakilacustomer.org   |         13 |      1 | 2006-02-14 22:04:36 | 2006-02-15 04:57:20 |\n",
      "|          10 |        1 | DOROTHY    | TAYLOR    | DOROTHY.TAYLOR@sakilacustomer.org   |         14 |      1 | 2006-02-14 22:04:36 | 2006-02-15 04:57:20 |\n",
      "|          11 |        2 | LISA       | ANDERSON  | LISA.ANDERSON@sakilacustomer.org    |         15 |      1 | 2006-02-14 22:04:36 | 2006-02-15 04:57:20 |\n",
      "+-------------+----------+------------+-----------+-------------------------------------+------------+--------+---------------------+---------------------+\n"
     ]
    }
   ],
   "source": [
    "!mysql sakila -e \"select * FROM customer limit 1, 10\""
   ]
  },
  {
   "cell_type": "code",
   "execution_count": null,
   "id": "9309bda2-af2a-4ba4-a7cb-11519d2efdc2",
   "metadata": {},
   "outputs": [],
   "source": [
    "# the query below returns the cities from the city table whose names start with 'A' or 'a' in ascending country id order"
   ]
  },
  {
   "cell_type": "code",
   "execution_count": 9,
   "id": "18b007cf-6b61-4027-bcf6-1c5e6ea9da12",
   "metadata": {
    "tags": []
   },
   "outputs": [
    {
     "name": "stdout",
     "output_type": "stream",
     "text": [
      "+-------------------------+------------+\n",
      "| city                    | country_id |\n",
      "+-------------------------+------------+\n",
      "| Avellaneda              |          6 |\n",
      "| Almirante Brown         |          6 |\n",
      "| al-Manama               |         11 |\n",
      "| Araatuba                |         15 |\n",
      "| Aparecida de Goinia     |         15 |\n",
      "| Anpolis                 |         15 |\n",
      "| Angra dos Reis          |         15 |\n",
      "| Alvorada                |         15 |\n",
      "| Antofagasta             |         22 |\n",
      "| Addis Abeba             |         31 |\n",
      "| Athenai                 |         39 |\n",
      "| Ambattur                |         44 |\n",
      "| Allappuzha (Alleppey)   |         44 |\n",
      "| Ahmadnagar              |         44 |\n",
      "| Amroha                  |         44 |\n",
      "| Adoni                   |         44 |\n",
      "| Arak                    |         46 |\n",
      "| Ashqelon                |         48 |\n",
      "| Ashdod                  |         48 |\n",
      "| Alessandria             |         49 |\n",
      "| Akishima                |         50 |\n",
      "| Acua                    |         60 |\n",
      "| Atlixco                 |         60 |\n",
      "| Allende                 |         60 |\n",
      "| Amersfoort              |         67 |\n",
      "| Apeldoorn               |         67 |\n",
      "| Asuncin                 |         73 |\n",
      "| Arecibo                 |         77 |\n",
      "| Atinsk                  |         80 |\n",
      "| al-Hawiya               |         82 |\n",
      "| al-Qatif                |         82 |\n",
      "| Abha                    |         82 |\n",
      "| A Corua (La Corua)      |         87 |\n",
      "| al-Qadarif              |         89 |\n",
      "| Adana                   |         97 |\n",
      "| Ashgabat                |         98 |\n",
      "| Abu Dhabi               |        101 |\n",
      "| al-Ayn                  |        101 |\n",
      "| Arlington               |        103 |\n",
      "| Akron                   |        103 |\n",
      "| Augusta-Richmond County |        103 |\n",
      "| Aurora                  |        103 |\n",
      "| Aden                    |        107 |\n",
      "+-------------------------+------------+\n"
     ]
    }
   ],
   "source": [
    "!mysql sakila -e \"select city, country_id from city where city LIKE 'A%' order by country_id\""
   ]
  },
  {
   "cell_type": "code",
   "execution_count": null,
   "id": "76675abd-cf74-4e19-a0ed-ecf3cf2dc99f",
   "metadata": {},
   "outputs": [],
   "source": [
    "# adds customer edward jacob by using insert commands"
   ]
  },
  {
   "cell_type": "code",
   "execution_count": 21,
   "id": "db8d99d8-7149-4b58-a96a-1b56264c4f31",
   "metadata": {},
   "outputs": [],
   "source": [
    "!mysql sakila -e \"insert into customer(customer_id,store_id,first_name,last_name,email,address_id,active,create_date,last_update) values('978','1','Jacob','Edward','edwardjacob@sakilcustomer.org','14','2','2006-02-14 22:04:36','2006-02-15 04:57:20')\""
   ]
  },
  {
   "cell_type": "code",
   "execution_count": null,
   "id": "a9378feb-10ac-4c6b-b5b7-b9c4c9cea3e0",
   "metadata": {},
   "outputs": [],
   "source": [
    "# Updates the second customer's first name to Stormi using update statements "
   ]
  },
  {
   "cell_type": "code",
   "execution_count": 22,
   "id": "5b30be4c-7f8a-454a-9b47-00c48a5b286b",
   "metadata": {},
   "outputs": [],
   "source": [
    "!mysql sakila -e \"update customer set first_name='Stormi' where customer_id=2\""
   ]
  },
  {
   "cell_type": "code",
   "execution_count": 29,
   "id": "9a745783-377c-4ab7-b755-cbdcbb84d058",
   "metadata": {},
   "outputs": [],
   "source": [
    "# Deletes the record that was added above"
   ]
  },
  {
   "cell_type": "code",
   "execution_count": 28,
   "id": "35509181-0e76-4a2e-a768-ad2c4980fcb5",
   "metadata": {},
   "outputs": [],
   "source": [
    "!mysql sakila -e \"delete from customer where customer_id=978\""
   ]
  }
 ],
 "metadata": {
  "environment": {
   "kernel": "python3",
   "name": "common-cpu.m110",
   "type": "gcloud",
   "uri": "gcr.io/deeplearning-platform-release/base-cpu:m110"
  },
  "kernelspec": {
   "display_name": "Python 3",
   "language": "python",
   "name": "python3"
  },
  "language_info": {
   "codemirror_mode": {
    "name": "ipython",
    "version": 3
   },
   "file_extension": ".py",
   "mimetype": "text/x-python",
   "name": "python",
   "nbconvert_exporter": "python",
   "pygments_lexer": "ipython3",
   "version": "3.10.12"
  }
 },
 "nbformat": 4,
 "nbformat_minor": 5
}
